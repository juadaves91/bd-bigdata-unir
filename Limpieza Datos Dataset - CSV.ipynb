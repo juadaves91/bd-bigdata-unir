{
 "cells": [
  {
   "cell_type": "markdown",
   "id": "e0960f8a",
   "metadata": {},
   "source": [
    "<img src=\"https://www.unir.net/wp-content/uploads/2019/11/Unir_2021_logo.svg\" width=\"240\" height=\"240\" align=\"right\"/>"
   ]
  },
  {
   "cell_type": "markdown",
   "id": "8d0beff4",
   "metadata": {},
   "source": [
    "<center><h1>Actividad 1. Limpieza de un Dataset.</header1></centre>"
   ]
  },
  {
   "cell_type": "markdown",
   "id": "838ff3d9",
   "metadata": {},
   "source": [
    "<center>JUAN DAVID ESCOBAR ESCOBAR</center>\n",
    "<center>Diciembre 2021</center>"
   ]
  },
  {
   "cell_type": "markdown",
   "id": "f4177e61",
   "metadata": {},
   "source": [
    "## Fase 0.  Inicialización y configuración"
   ]
  },
  {
   "cell_type": "markdown",
   "id": "15b1944d",
   "metadata": {},
   "source": [
    "### 0. Inicializar pySpark e Imporatar librerias"
   ]
  },
  {
   "cell_type": "code",
   "execution_count": 25,
   "id": "ce82fbb4",
   "metadata": {},
   "outputs": [
    {
     "data": {
      "text/plain": [
       "'/Users/juandavidescobarescobar/Documents/Unir/Materias/BD Big Data/Actividad 1'"
      ]
     },
     "execution_count": 25,
     "metadata": {},
     "output_type": "execute_result"
    }
   ],
   "source": [
    "import os\n",
    "import chardet\n",
    "from IPython.display import display, HTML\n",
    "import pandas as pd\n",
    "import matplotlib.pyplot as plt\n",
    "import seaborn as sns\n",
    "import re\n",
    "\n",
    "os.getcwd()"
   ]
  },
  {
   "cell_type": "code",
   "execution_count": 26,
   "id": "334f2c37",
   "metadata": {},
   "outputs": [
    {
     "data": {
      "text/plain": [
       "'/Users/juandavidescobarescobar/Documents/Apache Spark/spark-3.2.0-bin-hadoop3.2'"
      ]
     },
     "execution_count": 26,
     "metadata": {},
     "output_type": "execute_result"
    }
   ],
   "source": [
    "#testing pyspark installation\n",
    "import findspark\n",
    "findspark.init('/Users/juandavidescobarescobar/Documents/Apache Spark/spark-3.2.0-bin-hadoop3.2')\n",
    "findspark.find()\n",
    "import pyspark\n",
    "findspark.find()"
   ]
  },
  {
   "cell_type": "code",
   "execution_count": 27,
   "id": "45a75350",
   "metadata": {},
   "outputs": [],
   "source": [
    "#Libs Spark Context\n",
    "\n",
    "from pyspark import SparkContext, SparkConf\n",
    "from pyspark.sql import SparkSession\n",
    "from pyspark.sql.types import StructType, StructField, StringType, IntegerType, TimestampType, DateType\n",
    "from pyspark.sql import functions as f\n",
    "from pyspark.sql.functions import trim"
   ]
  },
  {
   "cell_type": "code",
   "execution_count": 28,
   "id": "2399acd7",
   "metadata": {},
   "outputs": [
    {
     "name": "stderr",
     "output_type": "stream",
     "text": [
      "Using Spark's default log4j profile: org/apache/spark/log4j-defaults.properties\n",
      "Setting default log level to \"WARN\".\n",
      "To adjust logging level use sc.setLogLevel(newLevel). For SparkR, use setLogLevel(newLevel).\n",
      "21/12/13 18:56:33 WARN NativeCodeLoader: Unable to load native-hadoop library for your platform... using builtin-java classes where applicable\n"
     ]
    },
    {
     "data": {
      "text/plain": [
       "DataFrame[key: string, value: string]"
      ]
     },
     "execution_count": 28,
     "metadata": {},
     "output_type": "execute_result"
    }
   ],
   "source": [
    "#Init Spark Context\n",
    "\n",
    "conf = pyspark.SparkConf().setAppName('SparkApp').setMaster('local')\n",
    "sc = pyspark.SparkContext(conf = conf)\n",
    "spark = SparkSession(sc)\n",
    "spark.sql(\"set spark.sql.legacy.timeParserPolicy=LEGACY\")"
   ]
  },
  {
   "cell_type": "markdown",
   "id": "007bc849",
   "metadata": {},
   "source": [
    "## Fase 1. Interpretación de datos crudos (Raw Zone)"
   ]
  },
  {
   "cell_type": "markdown",
   "id": "1e580113",
   "metadata": {},
   "source": [
    "### Definición funciones de validacion - CSV"
   ]
  },
  {
   "cell_type": "code",
   "execution_count": null,
   "id": "3055fb50",
   "metadata": {},
   "outputs": [],
   "source": [
    "'''\n",
    "En esta parte del código se encarga de validar la lectura correcta del archivo en formato CSV, de acuerdo\n",
    "a sus propiedades (encabezados, encoding, separador de línea, separador de columna, filas, columnas) \n",
    "y el esquema o tipología de los datos.\n",
    "''' "
   ]
  },
  {
   "cell_type": "code",
   "execution_count": 30,
   "id": "b00ca5a1",
   "metadata": {},
   "outputs": [],
   "source": [
    "\"\"\"\n",
    "Descripción: Retorna boolean que determina si el archivo cuenta con el encoding UTF-8.\n",
    "Responsables: Juan David Escobar E\n",
    "Fecha: 30/11/2021\n",
    "\"\"\"\n",
    "\n",
    "def is_valid_encoding_csv(ar_file):\n",
    "    this_encoding = 'UTF-8'\n",
    "    result = chardet.detect(open(ar_file, 'rb').read())\n",
    "    charenc = result['encoding']\n",
    "    return  True if this_encoding in charenc.upper() else False"
   ]
  },
  {
   "cell_type": "code",
   "execution_count": 31,
   "id": "92d06dd6",
   "metadata": {},
   "outputs": [],
   "source": [
    "\"\"\"\n",
    "Descripción: Retorna una lista con los registros que no cumplen\n",
    "             con el patrón de texto o expresión regular parametrizada\n",
    "             para una columna.\n",
    "Responsables: Juan David Escobar E\n",
    "Fecha: 05/12/2021\n",
    "\"\"\"\n",
    "\n",
    "def is_valid_txt_regrex(reg, col_pattern, col_pk):\n",
    "\n",
    "    col_pattern_reg = col_pattern + '_reg'\n",
    "\n",
    "    df = df.withColumn(col_pattern_reg, f.col(col_pattern)\\\n",
    "           .rlike(reg))\n",
    "    lst_bad_records = df.filter(f.col(col_pattern_reg) == False)\\\n",
    "                        .select(col_pk, col_pattern_reg)\\\n",
    "                        .collect()\n",
    "\n",
    "    return lst_bad_records"
   ]
  },
  {
   "cell_type": "code",
   "execution_count": 32,
   "id": "85614ab0",
   "metadata": {},
   "outputs": [],
   "source": [
    "\"\"\"\n",
    "Descripción: Valida el formato de los valores de campos tipo timestamp.\n",
    "Return: \n",
    "    List con los bad records\n",
    "Responsables: Juan David Escobar E\n",
    "Fecha: 05/12/2021.\n",
    "\n",
    "Ejecucion: validate_format_timestamp('10/02/1991 01:30')\n",
    "\"\"\"\n",
    "\n",
    "def validate_format_timestamp(df, col_timestamp, col_format = \"dd/mm/yy HH:mm\"):\n",
    "    df2 = df.withColumn(\"badRecords\",\\\n",
    "                         f.when(f.to_timestamp(f.col(col_timestamp), col_format)\\\n",
    "                         .cast(\"Timestamp\")\\\n",
    "                         .isNull() & \\\n",
    "                         f.col(col_timestamp)\\\n",
    "                         .isNotNull(),\\\n",
    "                         f.lit(\"Not a valid Timestamp\"))\\\n",
    "                         .otherwise(f.lit(None))\n",
    "                         )\n",
    "    list_bad_rows = df2.filter((f.col(\"badRecords\").isNotNull()) & (f.col(\"badRecords\") == \"Not a valid Timestamp\")).collect()\n",
    "       \n",
    "    return list_bad_rows"
   ]
  },
  {
   "cell_type": "code",
   "execution_count": 33,
   "id": "ce1f8c5b",
   "metadata": {},
   "outputs": [],
   "source": [
    "\"\"\"\n",
    "Descripción: Retorna los registros duplicados a partir de un Dataframe, y los registros unicos\n",
    "Parámetros:\n",
    "    ar_file -- Archivo a validar\n",
    "    gb_records -- String el cual contiene los nombres de la columna que son unicos del Dataframe.\n",
    "Responsables: Juan David Escobar E\n",
    "Fecha: 01/12/2021\n",
    "\"\"\"\n",
    "\n",
    "def get_duplicates(df_csv, df_pk):\n",
    "    is_error = False\n",
    "    msg_error = ''\n",
    "    separator = ''\n",
    "    result_dic = {'is_error' : '', 'msg_error' : ''}\n",
    "       \n",
    "    try: \n",
    "        df_Campo = df_csv.groupby(df_pk).count()\n",
    "        df_duplicados = df_Campo.select(f.col(df_pk), f.col(\"count\")).filter(f.col(\"count\") > 1).collect()\n",
    "        duplicados = [str(df_pk + \": \" + str(row[df_pk]) + \" - Cantidad: \" + str(row['count'])) for row in df_duplicados]\n",
    "                \n",
    "        if len(duplicados) > 0:\n",
    "            \n",
    "            for i in range(len(duplicados)):\n",
    "                lista_duplicados = duplicados[i].split(\",\")\n",
    "                msg_error += separator + \"[\"+(lista_duplicados[0].replace('\"',''))+\"]\"\n",
    "                separator = ', '\n",
    "\n",
    "            is_error = True           \n",
    "            result_dic = {'is_error' : is_error, 'msg_error' : msg_error}\n",
    "            \n",
    "    except Exception as error:\n",
    "        is_error = False\n",
    "        msg_error = 'No se pudo validar duplicados. !ERROR¡: ' + str(error)\n",
    "        result_dic = {'is_error' : is_error, 'msg_error' : msg_error}\n",
    "    return result_dic"
   ]
  },
  {
   "cell_type": "code",
   "execution_count": 34,
   "id": "731080b6",
   "metadata": {},
   "outputs": [],
   "source": [
    "'''\n",
    "Descripción: Lectura desde una ruta local un archivo en formato CSV, el cual se  intenta interpreta \n",
    "             interpretar por primera vez, asumiendo que el archivo posee un encoding tipo UTF-8, no \n",
    "             se especifica esquema, delimitador el caracter \";\", salto de linea el caracter CRLF y \n",
    "             la primera fila con encabezado.\n",
    "Responsables: Juan David Escobar E\n",
    "Fecha: 30/11/2021\n",
    "'''\n",
    "\n",
    "def read_csv():\n",
    "\n",
    "    # File location (https://www.youtube.com/watch?v=-tZbkgTnGs4)\n",
    "    file_location = '/Users/juandavidescobarescobar/Documents/Unir/Materias/BD Big Data/Actividad 1/data_act_03.csv'\n",
    "    file_type = 'csv'\n",
    "\n",
    "    # CSV options\n",
    "    infer_schema = 'true'\n",
    "    first_row_is_header = 'true'\n",
    "    delimiter = ';'\n",
    "    \n",
    "    # Validate encoding UTF-8\n",
    "    is_valid_encode = is_valid_encoding_csv(file_location)\n",
    "    \n",
    "    if is_valid_encode:\n",
    "                \n",
    "        try:        \n",
    "            # The applied options are for CSV files. For other types, these will ignored.\n",
    "            df = spark.read.format(file_type) \\\n",
    "                           .option('inferSchema', infer_schema) \\\n",
    "                           .option('header', first_row_is_header) \\\n",
    "                           .option('sep', delimiter) \\\n",
    "                           .load(file_location) \n",
    "        except Exception as error:\n",
    "                        \n",
    "            print('Error leyendo el archivo: ' + str(error))\n",
    "                \n",
    "    return df    "
   ]
  },
  {
   "cell_type": "markdown",
   "id": "6c66fe65",
   "metadata": {},
   "source": [
    "### Lectura y limpieza "
   ]
  },
  {
   "cell_type": "code",
   "execution_count": 35,
   "id": "59b9394d",
   "metadata": {},
   "outputs": [
    {
     "data": {
      "text/html": [
       "<div>\n",
       "<style scoped>\n",
       "    .dataframe tbody tr th:only-of-type {\n",
       "        vertical-align: middle;\n",
       "    }\n",
       "\n",
       "    .dataframe tbody tr th {\n",
       "        vertical-align: top;\n",
       "    }\n",
       "\n",
       "    .dataframe thead th {\n",
       "        text-align: right;\n",
       "    }\n",
       "</style>\n",
       "<table border=\"1\" class=\"dataframe\">\n",
       "  <thead>\n",
       "    <tr style=\"text-align: right;\">\n",
       "      <th></th>\n",
       "      <th>CrimeId</th>\n",
       "      <th>OriginalCrimeTypeName</th>\n",
       "      <th>OffenseDate</th>\n",
       "      <th>CallTime</th>\n",
       "      <th>CallDateTime</th>\n",
       "      <th>Disposition</th>\n",
       "      <th>Address</th>\n",
       "      <th>City</th>\n",
       "      <th>State</th>\n",
       "      <th>AgencyId</th>\n",
       "      <th>Range</th>\n",
       "      <th>AddressType</th>\n",
       "    </tr>\n",
       "  </thead>\n",
       "  <tbody>\n",
       "    <tr>\n",
       "      <th>0</th>\n",
       "      <td>160903280</td>\n",
       "      <td>Assault / Battery</td>\n",
       "      <td>2016-03-30T00:00:00</td>\n",
       "      <td>18:42</td>\n",
       "      <td>2016-03-30T18:42:00</td>\n",
       "      <td>REP</td>\n",
       "      <td>100 Block Of Chilton Av</td>\n",
       "      <td>San Francisco</td>\n",
       "      <td>CA</td>\n",
       "      <td>1</td>\n",
       "      <td>None</td>\n",
       "      <td>Premise Address</td>\n",
       "    </tr>\n",
       "    <tr>\n",
       "      <th>1</th>\n",
       "      <td>160912272</td>\n",
       "      <td>Homeless Complaint</td>\n",
       "      <td>2016-03-31T00:00:00</td>\n",
       "      <td>15:31</td>\n",
       "      <td>2016-03-31T15:31:00</td>\n",
       "      <td>GOA</td>\n",
       "      <td>2300 Block Of Market St</td>\n",
       "      <td>San Francisco</td>\n",
       "      <td>CA</td>\n",
       "      <td>1</td>\n",
       "      <td>None</td>\n",
       "      <td>Premise Address</td>\n",
       "    </tr>\n",
       "    <tr>\n",
       "      <th>2</th>\n",
       "      <td>160912590</td>\n",
       "      <td>Susp Info</td>\n",
       "      <td>2016-03-31T00:00:00</td>\n",
       "      <td>16:49</td>\n",
       "      <td>2016-03-31T16:49:00</td>\n",
       "      <td>GOA</td>\n",
       "      <td>2300 Block Of Market St</td>\n",
       "      <td>San Francisco</td>\n",
       "      <td>CA</td>\n",
       "      <td>1</td>\n",
       "      <td>None</td>\n",
       "      <td>Premise Address</td>\n",
       "    </tr>\n",
       "    <tr>\n",
       "      <th>3</th>\n",
       "      <td>160912801</td>\n",
       "      <td>Report</td>\n",
       "      <td>2016-03-31T00:00:00</td>\n",
       "      <td>17:38</td>\n",
       "      <td>2016-03-31T17:38:00</td>\n",
       "      <td>GOA</td>\n",
       "      <td>500 Block Of 7th St</td>\n",
       "      <td>San Francisco</td>\n",
       "      <td>CA</td>\n",
       "      <td>1</td>\n",
       "      <td>None</td>\n",
       "      <td>Premise Address</td>\n",
       "    </tr>\n",
       "    <tr>\n",
       "      <th>4</th>\n",
       "      <td>160912811</td>\n",
       "      <td>594</td>\n",
       "      <td>2016-03-31T00:00:00</td>\n",
       "      <td>17:42</td>\n",
       "      <td>2016-03-31T17:42:00</td>\n",
       "      <td>REP</td>\n",
       "      <td>Beale St/bryant St</td>\n",
       "      <td>San Francisco</td>\n",
       "      <td>CA</td>\n",
       "      <td>1</td>\n",
       "      <td>None</td>\n",
       "      <td>Intersection</td>\n",
       "    </tr>\n",
       "  </tbody>\n",
       "</table>\n",
       "</div>"
      ],
      "text/plain": [
       "     CrimeId OriginalCrimeTypeName          OffenseDate CallTime  \\\n",
       "0  160903280     Assault / Battery  2016-03-30T00:00:00    18:42   \n",
       "1  160912272    Homeless Complaint  2016-03-31T00:00:00    15:31   \n",
       "2  160912590             Susp Info  2016-03-31T00:00:00    16:49   \n",
       "3  160912801                Report  2016-03-31T00:00:00    17:38   \n",
       "4  160912811                   594  2016-03-31T00:00:00    17:42   \n",
       "\n",
       "          CallDateTime Disposition                  Address           City  \\\n",
       "0  2016-03-30T18:42:00         REP  100 Block Of Chilton Av  San Francisco   \n",
       "1  2016-03-31T15:31:00         GOA  2300 Block Of Market St  San Francisco   \n",
       "2  2016-03-31T16:49:00         GOA  2300 Block Of Market St  San Francisco   \n",
       "3  2016-03-31T17:38:00         GOA      500 Block Of 7th St  San Francisco   \n",
       "4  2016-03-31T17:42:00         REP       Beale St/bryant St  San Francisco   \n",
       "\n",
       "  State AgencyId Range      AddressType  \n",
       "0    CA        1  None  Premise Address  \n",
       "1    CA        1  None  Premise Address  \n",
       "2    CA        1  None  Premise Address  \n",
       "3    CA        1  None  Premise Address  \n",
       "4    CA        1  None     Intersection  "
      ]
     },
     "execution_count": 35,
     "metadata": {},
     "output_type": "execute_result"
    }
   ],
   "source": [
    "# Init clean and file validations\n",
    "\n",
    "# 1. Comparar el esquema inferido por pySpark Dataframe vs Los valores almacenados en el archivo\n",
    "\n",
    "df = read_csv()\n",
    "df.limit(20).toPandas().head()"
   ]
  },
  {
   "cell_type": "markdown",
   "id": "0b2a76b0",
   "metadata": {},
   "source": [
    "### Descripción y analisis de los datos"
   ]
  },
  {
   "cell_type": "code",
   "execution_count": 36,
   "id": "7b7c9c7b",
   "metadata": {},
   "outputs": [
    {
     "name": "stdout",
     "output_type": "stream",
     "text": [
      "<class 'pandas.core.frame.DataFrame'>\n",
      "RangeIndex: 10051 entries, 0 to 10050\n",
      "Data columns (total 12 columns):\n",
      " #   Column                 Non-Null Count  Dtype \n",
      "---  ------                 --------------  ----- \n",
      " 0   CrimeId                10051 non-null  int32 \n",
      " 1   OriginalCrimeTypeName  10051 non-null  object\n",
      " 2   OffenseDate            10051 non-null  object\n",
      " 3   CallTime               10051 non-null  object\n",
      " 4   CallDateTime           10051 non-null  object\n",
      " 5   Disposition            10051 non-null  object\n",
      " 6   Address                10051 non-null  object\n",
      " 7   City                   9730 non-null   object\n",
      " 8   State                  10048 non-null  object\n",
      " 9   AgencyId               10051 non-null  object\n",
      " 10  Range                  0 non-null      object\n",
      " 11  AddressType            10051 non-null  object\n",
      "dtypes: int32(1), object(11)\n",
      "memory usage: 903.1+ KB\n"
     ]
    }
   ],
   "source": [
    "df_pd = df.toPandas()\n",
    "df_pd.info()"
   ]
  },
  {
   "cell_type": "code",
   "execution_count": 37,
   "id": "d91a60ee",
   "metadata": {},
   "outputs": [
    {
     "data": {
      "text/html": [
       "<div>\n",
       "<style scoped>\n",
       "    .dataframe tbody tr th:only-of-type {\n",
       "        vertical-align: middle;\n",
       "    }\n",
       "\n",
       "    .dataframe tbody tr th {\n",
       "        vertical-align: top;\n",
       "    }\n",
       "\n",
       "    .dataframe thead th {\n",
       "        text-align: right;\n",
       "    }\n",
       "</style>\n",
       "<table border=\"1\" class=\"dataframe\">\n",
       "  <thead>\n",
       "    <tr style=\"text-align: right;\">\n",
       "      <th></th>\n",
       "      <th>CrimeId</th>\n",
       "      <th>OriginalCrimeTypeName</th>\n",
       "      <th>OffenseDate</th>\n",
       "      <th>CallTime</th>\n",
       "      <th>CallDateTime</th>\n",
       "      <th>Disposition</th>\n",
       "      <th>Address</th>\n",
       "      <th>City</th>\n",
       "      <th>State</th>\n",
       "      <th>AgencyId</th>\n",
       "      <th>Range</th>\n",
       "      <th>AddressType</th>\n",
       "    </tr>\n",
       "  </thead>\n",
       "  <tbody>\n",
       "    <tr>\n",
       "      <th>count</th>\n",
       "      <td>1.005100e+04</td>\n",
       "      <td>10051</td>\n",
       "      <td>10051</td>\n",
       "      <td>10051</td>\n",
       "      <td>10051</td>\n",
       "      <td>10051</td>\n",
       "      <td>10051</td>\n",
       "      <td>9730</td>\n",
       "      <td>10048</td>\n",
       "      <td>10051</td>\n",
       "      <td>0</td>\n",
       "      <td>10051</td>\n",
       "    </tr>\n",
       "    <tr>\n",
       "      <th>unique</th>\n",
       "      <td>NaN</td>\n",
       "      <td>575</td>\n",
       "      <td>9</td>\n",
       "      <td>1416</td>\n",
       "      <td>5116</td>\n",
       "      <td>19</td>\n",
       "      <td>5387</td>\n",
       "      <td>8</td>\n",
       "      <td>1</td>\n",
       "      <td>2</td>\n",
       "      <td>0</td>\n",
       "      <td>6</td>\n",
       "    </tr>\n",
       "    <tr>\n",
       "      <th>top</th>\n",
       "      <td>NaN</td>\n",
       "      <td>Traffic Stop</td>\n",
       "      <td>2016-04-02T00:00:00</td>\n",
       "      <td>17:39</td>\n",
       "      <td>2016-04-04T12:23:00</td>\n",
       "      <td>HAN</td>\n",
       "      <td>900 Block Of Market St</td>\n",
       "      <td>San Francisco</td>\n",
       "      <td>CA</td>\n",
       "      <td>1</td>\n",
       "      <td>NaN</td>\n",
       "      <td>Premise Address</td>\n",
       "    </tr>\n",
       "    <tr>\n",
       "      <th>freq</th>\n",
       "      <td>NaN</td>\n",
       "      <td>1215</td>\n",
       "      <td>2259</td>\n",
       "      <td>19</td>\n",
       "      <td>8</td>\n",
       "      <td>2820</td>\n",
       "      <td>58</td>\n",
       "      <td>9665</td>\n",
       "      <td>10048</td>\n",
       "      <td>10048</td>\n",
       "      <td>NaN</td>\n",
       "      <td>5059</td>\n",
       "    </tr>\n",
       "    <tr>\n",
       "      <th>mean</th>\n",
       "      <td>1.609394e+08</td>\n",
       "      <td>NaN</td>\n",
       "      <td>NaN</td>\n",
       "      <td>NaN</td>\n",
       "      <td>NaN</td>\n",
       "      <td>NaN</td>\n",
       "      <td>NaN</td>\n",
       "      <td>NaN</td>\n",
       "      <td>NaN</td>\n",
       "      <td>NaN</td>\n",
       "      <td>NaN</td>\n",
       "      <td>NaN</td>\n",
       "    </tr>\n",
       "    <tr>\n",
       "      <th>std</th>\n",
       "      <td>1.327006e+04</td>\n",
       "      <td>NaN</td>\n",
       "      <td>NaN</td>\n",
       "      <td>NaN</td>\n",
       "      <td>NaN</td>\n",
       "      <td>NaN</td>\n",
       "      <td>NaN</td>\n",
       "      <td>NaN</td>\n",
       "      <td>NaN</td>\n",
       "      <td>NaN</td>\n",
       "      <td>NaN</td>\n",
       "      <td>NaN</td>\n",
       "    </tr>\n",
       "    <tr>\n",
       "      <th>min</th>\n",
       "      <td>1.609033e+08</td>\n",
       "      <td>NaN</td>\n",
       "      <td>NaN</td>\n",
       "      <td>NaN</td>\n",
       "      <td>NaN</td>\n",
       "      <td>NaN</td>\n",
       "      <td>NaN</td>\n",
       "      <td>NaN</td>\n",
       "      <td>NaN</td>\n",
       "      <td>NaN</td>\n",
       "      <td>NaN</td>\n",
       "      <td>NaN</td>\n",
       "    </tr>\n",
       "    <tr>\n",
       "      <th>25%</th>\n",
       "      <td>1.609303e+08</td>\n",
       "      <td>NaN</td>\n",
       "      <td>NaN</td>\n",
       "      <td>NaN</td>\n",
       "      <td>NaN</td>\n",
       "      <td>NaN</td>\n",
       "      <td>NaN</td>\n",
       "      <td>NaN</td>\n",
       "      <td>NaN</td>\n",
       "      <td>NaN</td>\n",
       "      <td>NaN</td>\n",
       "      <td>NaN</td>\n",
       "    </tr>\n",
       "    <tr>\n",
       "      <th>50%</th>\n",
       "      <td>1.609408e+08</td>\n",
       "      <td>NaN</td>\n",
       "      <td>NaN</td>\n",
       "      <td>NaN</td>\n",
       "      <td>NaN</td>\n",
       "      <td>NaN</td>\n",
       "      <td>NaN</td>\n",
       "      <td>NaN</td>\n",
       "      <td>NaN</td>\n",
       "      <td>NaN</td>\n",
       "      <td>NaN</td>\n",
       "      <td>NaN</td>\n",
       "    </tr>\n",
       "    <tr>\n",
       "      <th>75%</th>\n",
       "      <td>1.609513e+08</td>\n",
       "      <td>NaN</td>\n",
       "      <td>NaN</td>\n",
       "      <td>NaN</td>\n",
       "      <td>NaN</td>\n",
       "      <td>NaN</td>\n",
       "      <td>NaN</td>\n",
       "      <td>NaN</td>\n",
       "      <td>NaN</td>\n",
       "      <td>NaN</td>\n",
       "      <td>NaN</td>\n",
       "      <td>NaN</td>\n",
       "    </tr>\n",
       "    <tr>\n",
       "      <th>max</th>\n",
       "      <td>1.609642e+08</td>\n",
       "      <td>NaN</td>\n",
       "      <td>NaN</td>\n",
       "      <td>NaN</td>\n",
       "      <td>NaN</td>\n",
       "      <td>NaN</td>\n",
       "      <td>NaN</td>\n",
       "      <td>NaN</td>\n",
       "      <td>NaN</td>\n",
       "      <td>NaN</td>\n",
       "      <td>NaN</td>\n",
       "      <td>NaN</td>\n",
       "    </tr>\n",
       "  </tbody>\n",
       "</table>\n",
       "</div>"
      ],
      "text/plain": [
       "             CrimeId OriginalCrimeTypeName          OffenseDate CallTime  \\\n",
       "count   1.005100e+04                 10051                10051    10051   \n",
       "unique           NaN                   575                    9     1416   \n",
       "top              NaN          Traffic Stop  2016-04-02T00:00:00    17:39   \n",
       "freq             NaN                  1215                 2259       19   \n",
       "mean    1.609394e+08                   NaN                  NaN      NaN   \n",
       "std     1.327006e+04                   NaN                  NaN      NaN   \n",
       "min     1.609033e+08                   NaN                  NaN      NaN   \n",
       "25%     1.609303e+08                   NaN                  NaN      NaN   \n",
       "50%     1.609408e+08                   NaN                  NaN      NaN   \n",
       "75%     1.609513e+08                   NaN                  NaN      NaN   \n",
       "max     1.609642e+08                   NaN                  NaN      NaN   \n",
       "\n",
       "               CallDateTime Disposition                 Address  \\\n",
       "count                 10051       10051                   10051   \n",
       "unique                 5116          19                    5387   \n",
       "top     2016-04-04T12:23:00         HAN  900 Block Of Market St   \n",
       "freq                      8        2820                      58   \n",
       "mean                    NaN         NaN                     NaN   \n",
       "std                     NaN         NaN                     NaN   \n",
       "min                     NaN         NaN                     NaN   \n",
       "25%                     NaN         NaN                     NaN   \n",
       "50%                     NaN         NaN                     NaN   \n",
       "75%                     NaN         NaN                     NaN   \n",
       "max                     NaN         NaN                     NaN   \n",
       "\n",
       "                 City  State AgencyId Range      AddressType  \n",
       "count            9730  10048    10051     0            10051  \n",
       "unique              8      1        2     0                6  \n",
       "top     San Francisco     CA        1   NaN  Premise Address  \n",
       "freq             9665  10048    10048   NaN             5059  \n",
       "mean              NaN    NaN      NaN   NaN              NaN  \n",
       "std               NaN    NaN      NaN   NaN              NaN  \n",
       "min               NaN    NaN      NaN   NaN              NaN  \n",
       "25%               NaN    NaN      NaN   NaN              NaN  \n",
       "50%               NaN    NaN      NaN   NaN              NaN  \n",
       "75%               NaN    NaN      NaN   NaN              NaN  \n",
       "max               NaN    NaN      NaN   NaN              NaN  "
      ]
     },
     "execution_count": 37,
     "metadata": {},
     "output_type": "execute_result"
    }
   ],
   "source": [
    "#df.printSchema()\n",
    "df_pd.describe(include='all')"
   ]
  },
  {
   "cell_type": "markdown",
   "id": "a7351edc",
   "metadata": {},
   "source": [
    "### Descripción de datos numericos por medio de graficos \n"
   ]
  },
  {
   "cell_type": "code",
   "execution_count": 38,
   "id": "220960e2",
   "metadata": {
    "scrolled": true
   },
   "outputs": [
    {
     "data": {
      "image/png": "[encoded data removed]",
      "text/plain": [
       "<Figure size 432x288 with 1 Axes>"
      ]
     },
     "metadata": {
      "needs_background": "light"
     },
     "output_type": "display_data"
    }
   ],
   "source": [
    "''' \n",
    "Generamos los histogramas de dos variables numéricas que presenta \n",
    "la tabla de datos: CrimeId y a AgencyId\n",
    "'''\n",
    "\n",
    "data_crime_id = list(df_pd[\"CrimeId\"])\n",
    "\n",
    "plt.hist(data_crime_id, 10)\n",
    "plt.show()"
   ]
  },
  {
   "cell_type": "code",
   "execution_count": 39,
   "id": "67ecffc3",
   "metadata": {},
   "outputs": [
    {
     "data": {
      "image/png": "[encoded data removed]",
      "text/plain": [
       "<Figure size 432x288 with 1 Axes>"
      ]
     },
     "metadata": {
      "needs_background": "light"
     },
     "output_type": "display_data"
    }
   ],
   "source": [
    "''' \n",
    "Generamos los histogramas de dos variables numéricas que presenta \n",
    "la tabla de datos: CrimeId y a AgencyId\n",
    "'''\n",
    "\n",
    "data_agency_id = list(df_pd[\"AgencyId\"])\n",
    "\n",
    "plt.hist(data_agency_id, 10)\n",
    "plt.show()"
   ]
  },
  {
   "cell_type": "markdown",
   "id": "b325ac25",
   "metadata": {},
   "source": [
    "### Descripción manual por cada columna"
   ]
  },
  {
   "cell_type": "code",
   "execution_count": null,
   "id": "90d4212c",
   "metadata": {},
   "outputs": [],
   "source": [
    "# -- CrimeId: integer (nullable = true), El tipo de dato corresponde al que se infiere en el esquema, al ser un\n",
    "#             identificador de registro este campo no debería aceptar valores nulos, por lo cual se debe\n",
    "#             corregir en el esquema inferido de manera automatica por Spark Dataframe.\n",
    "          \n",
    "# -- OriginalCrimeTypeName: string (nullable = true), Los valores concuerdan con el tipo de dato inferido \"String\", \n",
    "#                           el cual acepta valores nulos sin ningun inconveniente, a simple vista en el archivo se\n",
    "#                           logra identificar algunos patrones de información numerica como por ejemplo \"594\" o \n",
    "#                           caracteres sin sentido o en código \"lp\" que no concuerdan con la descripción o proposito del \n",
    "#                           campo, se puede concluir que son datos errados que quiza debamos limpiar del dataset, teniendo\n",
    "#                           muy presente la previa autorización y validación del analista de negocio a cargo.\n",
    "\n",
    "# -- OffenseDate: timestamp (nullable = true),  Formato de la fecha:YYYY-MM-DD T HH:MM:SS, para que este formato\n",
    "#                 identificado a ojo en el archivo CSV cumpla su estructura, se debe generar en una segunda \n",
    "#                 lectura del dataset leído o inferido de manera original, a un nuevo dataset donde se especifique \n",
    "#                 el formato que predomina para la fecha y tipo de dato inferido de manera automatica, por medio de\n",
    "#                 un constrain en un nuevo schema definido por el usuario. Adicional a esto se puede intentar hacer un \n",
    "#                 casteo de este formato para todos los valores del dataset e identificar valores con error, aunque si\n",
    "#                 el esquema que lo inferio de manera automatica tiene un tipo de dato timestamp, esto nos da la tranquilidad \n",
    "#                 de sasber que los valorers estan correctos para este formato de estampa de tiempo.\n",
    "\n",
    "# -- CallTime: string (nullable = true) Formato HH:MM, el tipo de dato se infirio de tipo texto, pero identificamos \n",
    "#              un factor que se relaciona con la descripción o nombre del campo, para asegurarnos que todos los valores \n",
    "#              cumplan con este formato, es importante validarlo por medio de una expresión regular, excluyendo \n",
    "#              aquellos valores nulos. Otra manera es recrear el dataset con un esquema especificado en el cual\n",
    "#              asignemos este tipo de dato como timestamp con el formato HH:MM.\n",
    "\n",
    "# -- CallDateTime: timestamp (nullable = true), Aplica la misma descripción que se especifico para el campo \n",
    "#                  \"OffenseDate\"\n",
    "                 \n",
    "# -- Disposition: string (nullable = true), Los valores concuerdan con el tipo de dato inferido \"String\", tambien \n",
    "#                 se analiza la longitud de los caracteres de cada campo, la cual es de 3 y en mayuscula, ejemplo \"REP\".\n",
    "#                 A simple vista se detectan algunos campos vacios, lo cual es normal, pero se detectan valores que no \n",
    "#                 cumplen el mismo patron 3 caracteres en letra mayuscula, se identifican valores como por ejemplo:\n",
    "#                 \"Not recorded\", lo cual se puede asumir que es un Dummy que se almaceno ya que no se disponia el \n",
    "#                 valor, en este caso lo mejor es limpiar esta información para dejar la información mas consistente.\n",
    "\n",
    "# -- Address: string (nullable = true), Los valores concuerdan con el tipo de dato inferido \"String\", lo cual es un\n",
    "#             buen indicio ya que es el tipo de dato comunmente usado para las direcciones en la mayoría de sistemas\n",
    "#             de información, ya que almacenan valores alfanumericos. No se identifican valores atipicos. \n",
    "\n",
    "# -- City: string (nullable = true), Los valores concuerdan con el tipo de dato inferido \"String\", lo cual es un\n",
    "#             buen indicio ya que es el tipo de dato comunmente usado para las ciudades, los valores tienen la descipcion\n",
    "#             completa de una sola ciudad la cual es San Francisco, algunos campos tienen valores nulos, los cuales\n",
    "#             se deben dejar tal cual ya que no se posee información de cual ciudad del estado CA: California pueden\n",
    "#             pertenecer Ej: (Los Angeles, San Francisco, San Jose, entre otros). El factor común es San Francisco, pero\n",
    "#             lo correcto sería reportar estos campos a los dueños de la informacón para corregirlos en una carga posterior\n",
    "#             y actualizarlos por el ID.\n",
    "\n",
    "# -- State: string (nullable = true) CA 2 CHARACTERS, Los valores concuerdan con el tipo de dato inferido \"String\", lo cual\n",
    "#           es un buen indicio ya que es el tipo de dato comunmente usado para las estados, \n",
    "#           https://es.wikipedia.org/wiki/Anexo:Abreviaciones_de_los_estados_de_Estados_Unidos. Para validar la calidad\n",
    "#           de la información se puede hacer un distinc de la información para conocer las diferentes categorias\n",
    "#           registradas, y se debe validar que cumplen el formato de 2 caracteres en mayúsculas.\n",
    "\n",
    "# -- AgencyId: string (nullable = true) INT, Los valores no concuerdan con el tipo de dato inferido, ya que \n",
    "#              debería ser un INT, esta columna no es relevante en esta sabana de datos ya que es solo el\n",
    "#              Id numerico de la agencia donde se reporto el crimen, pero que no brinda una descripción, quiza\n",
    "#              este dato se deba conservar para poder relacionar esta tabla de registro de crimenes con otro\n",
    "#              dataset de agencias.\n",
    "\n",
    "# -- Range: string (nullable = true) Los valores no concuerdan con la descriopcion del campo, ya que normalmente\n",
    "#           un rango es un tipo de dato entero, pero que tambien puede ser la descripcion de un limite inferior y\n",
    "#           superior, en este caso esta columna no tiene valores y no proporciona información asociada al crimen ya que\n",
    "#           todos los valores son null.\n",
    "          \n",
    "# -- AddressType: string (nullable = true), Los valores concuerdan con el tipo de dato inferido \"String\", para validar\n",
    "#                 la calidad de la información se puede hacer un distinct de las categorias o tipos de dirección\n",
    "#                 y validar cual de ellas es un dato errado que no pertenece a un tipo de dirección."
   ]
  },
  {
   "cell_type": "markdown",
   "id": "fdff3e92",
   "metadata": {},
   "source": [
    "## Fase 2. Datos procesados (Processed Zone) "
   ]
  },
  {
   "cell_type": "markdown",
   "id": "c5c4db1b",
   "metadata": {},
   "source": [
    "### Validar y eliminar registros duplicados"
   ]
  },
  {
   "cell_type": "code",
   "execution_count": 40,
   "id": "277792d0",
   "metadata": {},
   "outputs": [
    {
     "name": "stdout",
     "output_type": "stream",
     "text": [
      "CrimeId,  Valores Unicos 10047\n",
      "OriginalCrimeTypeName,  Valores Unicos 575\n",
      "OffenseDate,  Valores Unicos 9\n",
      "CallTime,  Valores Unicos 1416\n",
      "CallDateTime,  Valores Unicos 5116\n",
      "Disposition,  Valores Unicos 19\n",
      "Address,  Valores Unicos 5387\n",
      "City,  Valores Unicos 8\n",
      "State,  Valores Unicos 1\n",
      "AgencyId,  Valores Unicos 2\n",
      "Range,  Valores Unicos 0\n",
      "AddressType,  Valores Unicos 6\n"
     ]
    }
   ],
   "source": [
    "# Validar cantidad de valores duplicados en cada variable\n",
    "\n",
    "for column in df_pd:\n",
    "    \n",
    "    current_lst = df_pd[column].unique()\n",
    "    current_lst = list(filter(None, current_lst))\n",
    "    \n",
    "    print('{0},  Valores Unicos {1}'.format(column, len(current_lst)))\n",
    "    #print('{0},  Valores Unicos {1}'.format(column, df_pd[column].unique()))   "
   ]
  },
  {
   "cell_type": "code",
   "execution_count": 41,
   "id": "5cd79812",
   "metadata": {},
   "outputs": [
    {
     "data": {
      "text/plain": [
       "10051"
      ]
     },
     "execution_count": 41,
     "metadata": {},
     "output_type": "execute_result"
    }
   ],
   "source": [
    "# 7. Limpieza general - Elimina las filas duplicadas - por todos los campos\n",
    "\n",
    "df = df.drop_duplicates()\n",
    "df.count()"
   ]
  },
  {
   "cell_type": "markdown",
   "id": "d0343e80",
   "metadata": {},
   "source": [
    "### Identificar tipos de datos, patrones y formatos"
   ]
  },
  {
   "cell_type": "code",
   "execution_count": null,
   "id": "87140638",
   "metadata": {},
   "outputs": [],
   "source": [
    "# |-- CrimeId: integer (nullable = true)\n",
    "# |-- OriginalCrimeTypeName: string (nullable = true)\n",
    "# |-- OffenseDate: timestamp (nullable = true)  YYYY-MM-DD T HH:MM:SS\n",
    "# |-- CallTime: string (nullable = true) HH:MM\n",
    "# |-- CallDateTime: timestamp (nullable = true) YYYY-MM-DD T HH:MM:SS\n",
    "# |-- Disposition: string (nullable = true) 3 charascter MAX EX: REP\n",
    "# |-- Address: string (nullable = true) \n",
    "# |-- City: string (nullable = true)\n",
    "# |-- State: string (nullable = true) CA 2 CHARACTERS\n",
    "# |-- AgencyId: string (nullable = true) INT (OJO ERROR)\n",
    "# |-- Range: string (nullable = true) INT?? OJO SIN DATOS\n",
    "# |-- AddressType: string (nullable = true) String"
   ]
  },
  {
   "cell_type": "markdown",
   "id": "bb80ae10",
   "metadata": {},
   "source": [
    "### Identificar y analizar posible eliminación filas duplicadas por llave primaria"
   ]
  },
  {
   "cell_type": "code",
   "execution_count": 42,
   "id": "18ccca11",
   "metadata": {},
   "outputs": [
    {
     "data": {
      "text/plain": [
       "160950496    3\n",
       "160913455    3\n",
       "160943740    1\n",
       "160943710    1\n",
       "160943712    1\n",
       "            ..\n",
       "160931823    1\n",
       "160931824    1\n",
       "160931825    1\n",
       "160931827    1\n",
       "160964249    1\n",
       "Name: CrimeId, Length: 10047, dtype: int64"
      ]
     },
     "execution_count": 42,
     "metadata": {},
     "output_type": "execute_result"
    }
   ],
   "source": [
    "\n",
    "df_pd[\"CrimeId\"].value_counts() #10047 uniques\n",
    "\n",
    "#df_pd[\"CrimeId\"].drop_duplicates()"
   ]
  },
  {
   "cell_type": "code",
   "execution_count": 43,
   "id": "5f33d1a0",
   "metadata": {},
   "outputs": [
    {
     "name": "stderr",
     "output_type": "stream",
     "text": [
      "\r",
      "[Stage 10:>                                                         (0 + 1) / 1]\r"
     ]
    },
    {
     "name": "stdout",
     "output_type": "stream",
     "text": [
      "{'is_error': True, 'msg_error': '[CrimeId: 160950496 - Cantidad: 3], [CrimeId: 160913455 - Cantidad: 3]'}\n"
     ]
    },
    {
     "name": "stderr",
     "output_type": "stream",
     "text": [
      "\r",
      "                                                                                \r"
     ]
    }
   ],
   "source": [
    "# 8. Limpieza general - Elimina las filas duplicadas - por \"CrimeId\"\n",
    "\n",
    "df_pk = 'CrimeId'\n",
    "list_duplicates = get_duplicates(df, df_pk)\n",
    "print(list_duplicates)\n",
    "\n",
    "# '''\n",
    "# No se elimina ya que el ID tiene valores diferentes para\n",
    "# cada valor en la columna repetido\n",
    "\n",
    "# if result_duplicates['is_error']:\n",
    "#     #df.drop_duplicates(subset = [df_pk])\n",
    "#     print('Identificadores duplicados: {0}'.format(result_duplicates))\n",
    "#     '''"
   ]
  },
  {
   "cell_type": "code",
   "execution_count": 44,
   "id": "d3dc8ddf",
   "metadata": {
    "scrolled": true
   },
   "outputs": [
    {
     "data": {
      "text/html": [
       "<div>\n",
       "<style scoped>\n",
       "    .dataframe tbody tr th:only-of-type {\n",
       "        vertical-align: middle;\n",
       "    }\n",
       "\n",
       "    .dataframe tbody tr th {\n",
       "        vertical-align: top;\n",
       "    }\n",
       "\n",
       "    .dataframe thead th {\n",
       "        text-align: right;\n",
       "    }\n",
       "</style>\n",
       "<table border=\"1\" class=\"dataframe\">\n",
       "  <thead>\n",
       "    <tr style=\"text-align: right;\">\n",
       "      <th></th>\n",
       "      <th>CrimeId</th>\n",
       "      <th>OriginalCrimeTypeName</th>\n",
       "      <th>OffenseDate</th>\n",
       "      <th>CallTime</th>\n",
       "      <th>CallDateTime</th>\n",
       "      <th>Disposition</th>\n",
       "      <th>Address</th>\n",
       "      <th>City</th>\n",
       "      <th>State</th>\n",
       "      <th>AgencyId</th>\n",
       "      <th>Range</th>\n",
       "      <th>AddressType</th>\n",
       "    </tr>\n",
       "  </thead>\n",
       "  <tbody>\n",
       "    <tr>\n",
       "      <th>0</th>\n",
       "      <td>160950496</td>\n",
       "      <td>Trespasser</td>\n",
       "      <td>2016-04-04T00:00:00</td>\n",
       "      <td>6:51</td>\n",
       "      <td>2016-04-04T06:51:00</td>\n",
       "      <td>CAN</td>\n",
       "      <td>Block Of Hampshire St</td>\n",
       "      <td>San Francisco</td>\n",
       "      <td>CA</td>\n",
       "      <td>1</td>\n",
       "      <td>None</td>\n",
       "      <td>Premise Address</td>\n",
       "    </tr>\n",
       "    <tr>\n",
       "      <th>1</th>\n",
       "      <td>160950496</td>\n",
       "      <td>Passing Call</td>\n",
       "      <td>2016-04-04T00:00:00</td>\n",
       "      <td>6:51</td>\n",
       "      <td>2016-04-04T06:51:00</td>\n",
       "      <td>HAN</td>\n",
       "      <td>University St/felton St</td>\n",
       "      <td>San Francisco</td>\n",
       "      <td>CA</td>\n",
       "      <td>1</td>\n",
       "      <td>None</td>\n",
       "      <td>Intersection</td>\n",
       "    </tr>\n",
       "    <tr>\n",
       "      <th>2</th>\n",
       "      <td>160950496</td>\n",
       "      <td>Suspicious Vehicle</td>\n",
       "      <td>2016-04-04T00:00:00</td>\n",
       "      <td>6:51</td>\n",
       "      <td>2016-04-04T06:51:00</td>\n",
       "      <td>ND</td>\n",
       "      <td>1400 Block Of Cabrillo St</td>\n",
       "      <td>San Francisco</td>\n",
       "      <td>CA</td>\n",
       "      <td>1</td>\n",
       "      <td>None</td>\n",
       "      <td>Premise Address</td>\n",
       "    </tr>\n",
       "  </tbody>\n",
       "</table>\n",
       "</div>"
      ],
      "text/plain": [
       "     CrimeId OriginalCrimeTypeName          OffenseDate CallTime  \\\n",
       "0  160950496            Trespasser  2016-04-04T00:00:00     6:51   \n",
       "1  160950496          Passing Call  2016-04-04T00:00:00     6:51   \n",
       "2  160950496    Suspicious Vehicle  2016-04-04T00:00:00     6:51   \n",
       "\n",
       "          CallDateTime Disposition                    Address           City  \\\n",
       "0  2016-04-04T06:51:00         CAN      Block Of Hampshire St  San Francisco   \n",
       "1  2016-04-04T06:51:00         HAN    University St/felton St  San Francisco   \n",
       "2  2016-04-04T06:51:00          ND  1400 Block Of Cabrillo St  San Francisco   \n",
       "\n",
       "  State AgencyId Range      AddressType  \n",
       "0    CA        1  None  Premise Address  \n",
       "1    CA        1  None     Intersection  \n",
       "2    CA        1  None  Premise Address  "
      ]
     },
     "execution_count": 44,
     "metadata": {},
     "output_type": "execute_result"
    }
   ],
   "source": [
    "df2 = df.filter(f.col(\"Crimeid\") == '160950496')\n",
    "\n",
    "df2.limit(20).toPandas().head()"
   ]
  },
  {
   "cell_type": "code",
   "execution_count": 45,
   "id": "a4ae0694",
   "metadata": {},
   "outputs": [
    {
     "data": {
      "text/html": [
       "<div>\n",
       "<style scoped>\n",
       "    .dataframe tbody tr th:only-of-type {\n",
       "        vertical-align: middle;\n",
       "    }\n",
       "\n",
       "    .dataframe tbody tr th {\n",
       "        vertical-align: top;\n",
       "    }\n",
       "\n",
       "    .dataframe thead th {\n",
       "        text-align: right;\n",
       "    }\n",
       "</style>\n",
       "<table border=\"1\" class=\"dataframe\">\n",
       "  <thead>\n",
       "    <tr style=\"text-align: right;\">\n",
       "      <th></th>\n",
       "      <th>CrimeId</th>\n",
       "      <th>OriginalCrimeTypeName</th>\n",
       "      <th>OffenseDate</th>\n",
       "      <th>CallTime</th>\n",
       "      <th>CallDateTime</th>\n",
       "      <th>Disposition</th>\n",
       "      <th>Address</th>\n",
       "      <th>City</th>\n",
       "      <th>State</th>\n",
       "      <th>AgencyId</th>\n",
       "      <th>Range</th>\n",
       "      <th>AddressType</th>\n",
       "    </tr>\n",
       "  </thead>\n",
       "  <tbody>\n",
       "  </tbody>\n",
       "</table>\n",
       "</div>"
      ],
      "text/plain": [
       "Empty DataFrame\n",
       "Columns: [CrimeId, OriginalCrimeTypeName, OffenseDate, CallTime, CallDateTime, Disposition, Address, City, State, AgencyId, Range, AddressType]\n",
       "Index: []"
      ]
     },
     "execution_count": 45,
     "metadata": {},
     "output_type": "execute_result"
    }
   ],
   "source": [
    "df2 = df.filter(f.col(\"Crimeid\").isNull())\n",
    "\n",
    "df2.limit(20).toPandas().head()"
   ]
  },
  {
   "cell_type": "markdown",
   "id": "de5a39d2",
   "metadata": {},
   "source": [
    "### Validar formatos de fecha y tiempo"
   ]
  },
  {
   "cell_type": "code",
   "execution_count": 46,
   "id": "e6064fd6",
   "metadata": {},
   "outputs": [
    {
     "name": "stdout",
     "output_type": "stream",
     "text": [
      "list_bad_rec_offense_date:  []\n",
      "list_bad_rec_call_time:  []\n",
      "list_bad_rec_call_date_time:  []\n"
     ]
    }
   ],
   "source": [
    "# Validar formato fechas\n",
    "\n",
    "list_bad_rec_offense_date = validate_format_timestamp(df, \"OffenseDate\", col_format = \"yyyy-mm-dd\")\n",
    "list_bad_rec_call_time = validate_format_timestamp(df, \"CallTime\", col_format = \"HH:mm\")\n",
    "list_bad_rec_call_date_time = validate_format_timestamp(df, \"CallDateTime\", col_format = \"yyyy-MM-dd'T'HH:mm:ss\")\n",
    "\n",
    "print('list_bad_rec_offense_date: ', list_bad_rec_offense_date) \n",
    "print('list_bad_rec_call_time: ', list_bad_rec_call_time)\n",
    "print('list_bad_rec_call_date_time: ', list_bad_rec_call_date_time)"
   ]
  },
  {
   "cell_type": "markdown",
   "id": "00f4f9d0",
   "metadata": {},
   "source": [
    "### Eliminar columnas con información redundate"
   ]
  },
  {
   "cell_type": "code",
   "execution_count": 47,
   "id": "d4ac076c",
   "metadata": {},
   "outputs": [
    {
     "data": {
      "text/html": [
       "<div>\n",
       "<style scoped>\n",
       "    .dataframe tbody tr th:only-of-type {\n",
       "        vertical-align: middle;\n",
       "    }\n",
       "\n",
       "    .dataframe tbody tr th {\n",
       "        vertical-align: top;\n",
       "    }\n",
       "\n",
       "    .dataframe thead th {\n",
       "        text-align: right;\n",
       "    }\n",
       "</style>\n",
       "<table border=\"1\" class=\"dataframe\">\n",
       "  <thead>\n",
       "    <tr style=\"text-align: right;\">\n",
       "      <th></th>\n",
       "      <th>CrimeId</th>\n",
       "      <th>OriginalCrimeTypeName</th>\n",
       "      <th>CallDateTime</th>\n",
       "      <th>Disposition</th>\n",
       "      <th>Address</th>\n",
       "      <th>City</th>\n",
       "      <th>State</th>\n",
       "      <th>AgencyId</th>\n",
       "      <th>AddressType</th>\n",
       "    </tr>\n",
       "  </thead>\n",
       "  <tbody>\n",
       "    <tr>\n",
       "      <th>0</th>\n",
       "      <td>160913997</td>\n",
       "      <td>Pay</td>\n",
       "      <td>2016-03-31T23:51:00</td>\n",
       "      <td>ABA</td>\n",
       "      <td>1600 Block Of Green St</td>\n",
       "      <td>San Francisco</td>\n",
       "      <td>CA</td>\n",
       "      <td>1</td>\n",
       "      <td>Premise Address</td>\n",
       "    </tr>\n",
       "    <tr>\n",
       "      <th>1</th>\n",
       "      <td>160920463</td>\n",
       "      <td>Well Being Check</td>\n",
       "      <td>2016-04-01T05:49:00</td>\n",
       "      <td>ND</td>\n",
       "      <td>Ada Ct/ofarrell St</td>\n",
       "      <td>San Francisco</td>\n",
       "      <td>CA</td>\n",
       "      <td>1</td>\n",
       "      <td>Intersection</td>\n",
       "    </tr>\n",
       "    <tr>\n",
       "      <th>2</th>\n",
       "      <td>160920488</td>\n",
       "      <td>Encampent</td>\n",
       "      <td>2016-04-01T06:15:00</td>\n",
       "      <td>ADV</td>\n",
       "      <td>500 Block Of Florida St</td>\n",
       "      <td>San Francisco</td>\n",
       "      <td>CA</td>\n",
       "      <td>1</td>\n",
       "      <td>Premise Address</td>\n",
       "    </tr>\n",
       "    <tr>\n",
       "      <th>3</th>\n",
       "      <td>160920709</td>\n",
       "      <td>Suspicious Vehicle</td>\n",
       "      <td>2016-04-01T08:00:00</td>\n",
       "      <td>HAN</td>\n",
       "      <td>Granada Av/holloway Av</td>\n",
       "      <td>San Francisco</td>\n",
       "      <td>CA</td>\n",
       "      <td>1</td>\n",
       "      <td>Intersection</td>\n",
       "    </tr>\n",
       "    <tr>\n",
       "      <th>4</th>\n",
       "      <td>160920723</td>\n",
       "      <td>Traffic Stop</td>\n",
       "      <td>2016-04-01T08:05:00</td>\n",
       "      <td>CIT</td>\n",
       "      <td>7th St/mission St</td>\n",
       "      <td>San Francisco</td>\n",
       "      <td>CA</td>\n",
       "      <td>1</td>\n",
       "      <td>Intersection</td>\n",
       "    </tr>\n",
       "  </tbody>\n",
       "</table>\n",
       "</div>"
      ],
      "text/plain": [
       "     CrimeId OriginalCrimeTypeName         CallDateTime Disposition  \\\n",
       "0  160913997                   Pay  2016-03-31T23:51:00         ABA   \n",
       "1  160920463      Well Being Check  2016-04-01T05:49:00          ND   \n",
       "2  160920488             Encampent  2016-04-01T06:15:00         ADV   \n",
       "3  160920709    Suspicious Vehicle  2016-04-01T08:00:00         HAN   \n",
       "4  160920723          Traffic Stop  2016-04-01T08:05:00         CIT   \n",
       "\n",
       "                   Address           City State AgencyId      AddressType  \n",
       "0   1600 Block Of Green St  San Francisco    CA        1  Premise Address  \n",
       "1       Ada Ct/ofarrell St  San Francisco    CA        1     Intersection  \n",
       "2  500 Block Of Florida St  San Francisco    CA        1  Premise Address  \n",
       "3   Granada Av/holloway Av  San Francisco    CA        1     Intersection  \n",
       "4        7th St/mission St  San Francisco    CA        1     Intersection  "
      ]
     },
     "execution_count": 47,
     "metadata": {},
     "output_type": "execute_result"
    }
   ],
   "source": [
    "# Eliminación de variables redundantes y sin información\n",
    "\n",
    "columns_to_drop = ['OffenseDate', 'CallTime', 'Range']\n",
    "df = df.drop(*columns_to_drop)\n",
    "df.limit(20).toPandas().head()"
   ]
  },
  {
   "cell_type": "markdown",
   "id": "6b21f3f5",
   "metadata": {},
   "source": [
    "### Validar formatos de texto estandarizados para texto (Expresiones regulares)"
   ]
  },
  {
   "cell_type": "code",
   "execution_count": 48,
   "id": "8ca9477b",
   "metadata": {},
   "outputs": [
    {
     "data": {
      "text/html": [
       "<div>\n",
       "<style scoped>\n",
       "    .dataframe tbody tr th:only-of-type {\n",
       "        vertical-align: middle;\n",
       "    }\n",
       "\n",
       "    .dataframe tbody tr th {\n",
       "        vertical-align: top;\n",
       "    }\n",
       "\n",
       "    .dataframe thead th {\n",
       "        text-align: right;\n",
       "    }\n",
       "</style>\n",
       "<table border=\"1\" class=\"dataframe\">\n",
       "  <thead>\n",
       "    <tr style=\"text-align: right;\">\n",
       "      <th></th>\n",
       "      <th>CrimeId</th>\n",
       "      <th>OriginalCrimeTypeName</th>\n",
       "      <th>CallDateTime</th>\n",
       "      <th>Disposition</th>\n",
       "      <th>Address</th>\n",
       "      <th>City</th>\n",
       "      <th>State</th>\n",
       "      <th>AgencyId</th>\n",
       "      <th>AddressType</th>\n",
       "    </tr>\n",
       "  </thead>\n",
       "  <tbody>\n",
       "    <tr>\n",
       "      <th>0</th>\n",
       "      <td>160913997</td>\n",
       "      <td>Pay</td>\n",
       "      <td>2016-03-31T23:51:00</td>\n",
       "      <td>ABA</td>\n",
       "      <td>1600 Block Of Green St</td>\n",
       "      <td>San Francisco</td>\n",
       "      <td>CA</td>\n",
       "      <td>1</td>\n",
       "      <td>Premise Address</td>\n",
       "    </tr>\n",
       "    <tr>\n",
       "      <th>1</th>\n",
       "      <td>160920463</td>\n",
       "      <td>Well Being Check</td>\n",
       "      <td>2016-04-01T05:49:00</td>\n",
       "      <td>ND</td>\n",
       "      <td>Ada Ct/ofarrell St</td>\n",
       "      <td>San Francisco</td>\n",
       "      <td>CA</td>\n",
       "      <td>1</td>\n",
       "      <td>Intersection</td>\n",
       "    </tr>\n",
       "    <tr>\n",
       "      <th>2</th>\n",
       "      <td>160920488</td>\n",
       "      <td>Encampent</td>\n",
       "      <td>2016-04-01T06:15:00</td>\n",
       "      <td>ADV</td>\n",
       "      <td>500 Block Of Florida St</td>\n",
       "      <td>San Francisco</td>\n",
       "      <td>CA</td>\n",
       "      <td>1</td>\n",
       "      <td>Premise Address</td>\n",
       "    </tr>\n",
       "    <tr>\n",
       "      <th>3</th>\n",
       "      <td>160920709</td>\n",
       "      <td>Suspicious Vehicle</td>\n",
       "      <td>2016-04-01T08:00:00</td>\n",
       "      <td>HAN</td>\n",
       "      <td>Granada Av/holloway Av</td>\n",
       "      <td>San Francisco</td>\n",
       "      <td>CA</td>\n",
       "      <td>1</td>\n",
       "      <td>Intersection</td>\n",
       "    </tr>\n",
       "    <tr>\n",
       "      <th>4</th>\n",
       "      <td>160920723</td>\n",
       "      <td>Traffic Stop</td>\n",
       "      <td>2016-04-01T08:05:00</td>\n",
       "      <td>CIT</td>\n",
       "      <td>7th St/mission St</td>\n",
       "      <td>San Francisco</td>\n",
       "      <td>CA</td>\n",
       "      <td>1</td>\n",
       "      <td>Intersection</td>\n",
       "    </tr>\n",
       "  </tbody>\n",
       "</table>\n",
       "</div>"
      ],
      "text/plain": [
       "     CrimeId OriginalCrimeTypeName         CallDateTime Disposition  \\\n",
       "0  160913997                   Pay  2016-03-31T23:51:00         ABA   \n",
       "1  160920463      Well Being Check  2016-04-01T05:49:00          ND   \n",
       "2  160920488             Encampent  2016-04-01T06:15:00         ADV   \n",
       "3  160920709    Suspicious Vehicle  2016-04-01T08:00:00         HAN   \n",
       "4  160920723          Traffic Stop  2016-04-01T08:05:00         CIT   \n",
       "\n",
       "                   Address           City State AgencyId      AddressType  \n",
       "0   1600 Block Of Green St  San Francisco    CA        1  Premise Address  \n",
       "1       Ada Ct/ofarrell St  San Francisco    CA        1     Intersection  \n",
       "2  500 Block Of Florida St  San Francisco    CA        1  Premise Address  \n",
       "3   Granada Av/holloway Av  San Francisco    CA        1     Intersection  \n",
       "4        7th St/mission St  San Francisco    CA        1     Intersection  "
      ]
     },
     "execution_count": 48,
     "metadata": {},
     "output_type": "execute_result"
    }
   ],
   "source": [
    "# Validar formatos estandarizados de texto (Disposition, State)\n",
    "\n",
    "col_pk = 'CrimeId'\n",
    "reg = r'^[A-Z]{3}'               # r'^[A-Z]{3}' , r'^[A-Z]{2}'\n",
    "col_pattern = 'Disposition'       #'Disposition', 'State'  \n",
    "col_pattern_reg = col_pattern + '_reg'\n",
    "\n",
    "df_formats = df.withColumn(col_pattern_reg, f.col(col_pattern).rlike(reg))\n",
    "df_formats = df_formats.filter(f.col(col_pattern_reg) == False)\n",
    "df_formats = df_formats.select(col_pk, col_pattern, col_pattern_reg)\n",
    "        \n",
    "#print(lst)\n",
    "df.limit(20).toPandas().head()"
   ]
  },
  {
   "cell_type": "markdown",
   "id": "bfe8ffb5",
   "metadata": {},
   "source": [
    "### Estandarizar valores tipo texto (Mayúsculas, sin espacios y homologados)"
   ]
  },
  {
   "cell_type": "code",
   "execution_count": 54,
   "id": "1fd548c4",
   "metadata": {},
   "outputs": [
    {
     "name": "stdout",
     "output_type": "stream",
     "text": [
      "['OriginalCrimeTypeName', 'CallDateTime', 'Disposition', 'Address', 'City', 'State', 'AgencyId', 'AddressType']\n"
     ]
    },
    {
     "data": {
      "text/html": [
       "<div>\n",
       "<style scoped>\n",
       "    .dataframe tbody tr th:only-of-type {\n",
       "        vertical-align: middle;\n",
       "    }\n",
       "\n",
       "    .dataframe tbody tr th {\n",
       "        vertical-align: top;\n",
       "    }\n",
       "\n",
       "    .dataframe thead th {\n",
       "        text-align: right;\n",
       "    }\n",
       "</style>\n",
       "<table border=\"1\" class=\"dataframe\">\n",
       "  <thead>\n",
       "    <tr style=\"text-align: right;\">\n",
       "      <th></th>\n",
       "      <th>CrimeId</th>\n",
       "      <th>OriginalCrimeTypeName</th>\n",
       "      <th>CallDateTime</th>\n",
       "      <th>Disposition</th>\n",
       "      <th>Address</th>\n",
       "      <th>City</th>\n",
       "      <th>State</th>\n",
       "      <th>AgencyId</th>\n",
       "      <th>AddressType</th>\n",
       "    </tr>\n",
       "  </thead>\n",
       "  <tbody>\n",
       "    <tr>\n",
       "      <th>0</th>\n",
       "      <td>160913997</td>\n",
       "      <td>PAY</td>\n",
       "      <td>2016-03-31T23:51:00</td>\n",
       "      <td>ABA</td>\n",
       "      <td>1600 BLOCK OF GREEN ST</td>\n",
       "      <td>SAN FRANCISCO</td>\n",
       "      <td>CA</td>\n",
       "      <td>1</td>\n",
       "      <td>PREMISE ADDRESS</td>\n",
       "    </tr>\n",
       "    <tr>\n",
       "      <th>1</th>\n",
       "      <td>160920463</td>\n",
       "      <td>WELL BEING CHECK</td>\n",
       "      <td>2016-04-01T05:49:00</td>\n",
       "      <td>ND</td>\n",
       "      <td>ADA CT/OFARRELL ST</td>\n",
       "      <td>SAN FRANCISCO</td>\n",
       "      <td>CA</td>\n",
       "      <td>1</td>\n",
       "      <td>INTERSECTION</td>\n",
       "    </tr>\n",
       "    <tr>\n",
       "      <th>2</th>\n",
       "      <td>160920488</td>\n",
       "      <td>ENCAMPENT</td>\n",
       "      <td>2016-04-01T06:15:00</td>\n",
       "      <td>ADV</td>\n",
       "      <td>500 BLOCK OF FLORIDA ST</td>\n",
       "      <td>SAN FRANCISCO</td>\n",
       "      <td>CA</td>\n",
       "      <td>1</td>\n",
       "      <td>PREMISE ADDRESS</td>\n",
       "    </tr>\n",
       "    <tr>\n",
       "      <th>3</th>\n",
       "      <td>160920709</td>\n",
       "      <td>SUSPICIOUS VEHICLE</td>\n",
       "      <td>2016-04-01T08:00:00</td>\n",
       "      <td>HAN</td>\n",
       "      <td>GRANADA AV/HOLLOWAY AV</td>\n",
       "      <td>SAN FRANCISCO</td>\n",
       "      <td>CA</td>\n",
       "      <td>1</td>\n",
       "      <td>INTERSECTION</td>\n",
       "    </tr>\n",
       "    <tr>\n",
       "      <th>4</th>\n",
       "      <td>160920723</td>\n",
       "      <td>TRAFFIC STOP</td>\n",
       "      <td>2016-04-01T08:05:00</td>\n",
       "      <td>CIT</td>\n",
       "      <td>7TH ST/MISSION ST</td>\n",
       "      <td>SAN FRANCISCO</td>\n",
       "      <td>CA</td>\n",
       "      <td>1</td>\n",
       "      <td>INTERSECTION</td>\n",
       "    </tr>\n",
       "  </tbody>\n",
       "</table>\n",
       "</div>"
      ],
      "text/plain": [
       "     CrimeId OriginalCrimeTypeName         CallDateTime Disposition  \\\n",
       "0  160913997                   PAY  2016-03-31T23:51:00         ABA   \n",
       "1  160920463      WELL BEING CHECK  2016-04-01T05:49:00          ND   \n",
       "2  160920488             ENCAMPENT  2016-04-01T06:15:00         ADV   \n",
       "3  160920709    SUSPICIOUS VEHICLE  2016-04-01T08:00:00         HAN   \n",
       "4  160920723          TRAFFIC STOP  2016-04-01T08:05:00         CIT   \n",
       "\n",
       "                   Address           City State AgencyId      AddressType  \n",
       "0   1600 BLOCK OF GREEN ST  SAN FRANCISCO    CA        1  PREMISE ADDRESS  \n",
       "1       ADA CT/OFARRELL ST  SAN FRANCISCO    CA        1     INTERSECTION  \n",
       "2  500 BLOCK OF FLORIDA ST  SAN FRANCISCO    CA        1  PREMISE ADDRESS  \n",
       "3   GRANADA AV/HOLLOWAY AV  SAN FRANCISCO    CA        1     INTERSECTION  \n",
       "4        7TH ST/MISSION ST  SAN FRANCISCO    CA        1     INTERSECTION  "
      ]
     },
     "execution_count": 54,
     "metadata": {},
     "output_type": "execute_result"
    }
   ],
   "source": [
    "# Eliminación de espacios en blancos para las variables tipo texto\n",
    "# [OriginalCrimeTypeName, Disposition, Address, City, State y Range] \n",
    "# Estandarizacion de la los datos en Mayusculas\n",
    "from pyspark.sql.functions import *\n",
    "\n",
    "list_cols_str = [item[0] for item in df.dtypes if item[1].startswith('string')]\n",
    "\n",
    "for col_name in list_cols_str:\n",
    "    df = df.withColumn(col_name, upper(trim(f.col(col_name))))\n",
    "\n",
    "df.limit(20).toPandas().head()"
   ]
  },
  {
   "cell_type": "markdown",
   "id": "6a3cf743",
   "metadata": {},
   "source": [
    "### Tratamiento y validación de Null Values (Variables númericas)"
   ]
  },
  {
   "cell_type": "code",
   "execution_count": 55,
   "id": "2fd381f4",
   "metadata": {},
   "outputs": [
    {
     "data": {
      "text/html": [
       "<div>\n",
       "<style scoped>\n",
       "    .dataframe tbody tr th:only-of-type {\n",
       "        vertical-align: middle;\n",
       "    }\n",
       "\n",
       "    .dataframe tbody tr th {\n",
       "        vertical-align: top;\n",
       "    }\n",
       "\n",
       "    .dataframe thead th {\n",
       "        text-align: right;\n",
       "    }\n",
       "</style>\n",
       "<table border=\"1\" class=\"dataframe\">\n",
       "  <thead>\n",
       "    <tr style=\"text-align: right;\">\n",
       "      <th></th>\n",
       "      <th>count</th>\n",
       "    </tr>\n",
       "  </thead>\n",
       "  <tbody>\n",
       "    <tr>\n",
       "      <th>City</th>\n",
       "      <td>321</td>\n",
       "    </tr>\n",
       "    <tr>\n",
       "      <th>State</th>\n",
       "      <td>3</td>\n",
       "    </tr>\n",
       "    <tr>\n",
       "      <th>CrimeId</th>\n",
       "      <td>0</td>\n",
       "    </tr>\n",
       "    <tr>\n",
       "      <th>OriginalCrimeTypeName</th>\n",
       "      <td>0</td>\n",
       "    </tr>\n",
       "    <tr>\n",
       "      <th>CallDateTime</th>\n",
       "      <td>0</td>\n",
       "    </tr>\n",
       "    <tr>\n",
       "      <th>Disposition</th>\n",
       "      <td>0</td>\n",
       "    </tr>\n",
       "    <tr>\n",
       "      <th>Address</th>\n",
       "      <td>0</td>\n",
       "    </tr>\n",
       "    <tr>\n",
       "      <th>AgencyId</th>\n",
       "      <td>0</td>\n",
       "    </tr>\n",
       "    <tr>\n",
       "      <th>AddressType</th>\n",
       "      <td>0</td>\n",
       "    </tr>\n",
       "  </tbody>\n",
       "</table>\n",
       "</div>"
      ],
      "text/plain": [
       "                       count\n",
       "City                     321\n",
       "State                      3\n",
       "CrimeId                    0\n",
       "OriginalCrimeTypeName      0\n",
       "CallDateTime               0\n",
       "Disposition                0\n",
       "Address                    0\n",
       "AgencyId                   0\n",
       "AddressType                0"
      ]
     },
     "execution_count": 55,
     "metadata": {},
     "output_type": "execute_result"
    }
   ],
   "source": [
    "import pyspark.sql.functions as F\n",
    "def count_missings(spark_df, sort = True):\n",
    "    \"\"\"\n",
    "    Counts number of nulls and nans in each column\n",
    "    \"\"\"\n",
    "    df = spark_df.select([F.count(F.when(F.isnan(c) | F.isnull(c), c)).alias(c) for (c,c_type) in spark_df.dtypes]).toPandas()\n",
    "\n",
    "    if len(df) == 0:\n",
    "        print(\"There are no any missing values!\")\n",
    "        return None\n",
    "\n",
    "    if sort:\n",
    "        return df.rename(index={0: 'count'}).T.sort_values(\"count\",ascending=False)\n",
    "\n",
    "    return df\n",
    "\n",
    "count_missings(df)"
   ]
  },
  {
   "cell_type": "code",
   "execution_count": null,
   "id": "e3fbae33",
   "metadata": {},
   "outputs": [],
   "source": [
    "# Calculo del valor medio sin tener encuneta los valores Nan, \n",
    "# este paso solo aplica para variables tipo númericas, aplica\n",
    "# cuando tenego valores nulos en una muestra menor al 50% para rellenar\n",
    "\n",
    "'''\n",
    "from pyspark.sql.functions import mean as _mean, stddev as _stddev\n",
    "\n",
    "col_name = 'colName'\n",
    "\n",
    "df_stats = df.select(\n",
    "    _mean(f.col(col_name)).alias('mean'),\n",
    "    _stddev(f.col(col_name)).alias('std')\n",
    ").collect()\n",
    "\n",
    "mean = df_stats[0]['mean']\n",
    "std = df_stats[0]['std']\n",
    "\n",
    "print(mean, std)\n",
    "'''"
   ]
  },
  {
   "cell_type": "code",
   "execution_count": 56,
   "id": "8604489f",
   "metadata": {},
   "outputs": [
    {
     "name": "stdout",
     "output_type": "stream",
     "text": [
      "+---------+---------------------+-------------------+------------+--------------------+-------------+-----+--------+---------------+\n",
      "|  CrimeId|OriginalCrimeTypeName|       CallDateTime| Disposition|             Address|         City|State|AgencyId|    AddressType|\n",
      "+---------+---------------------+-------------------+------------+--------------------+-------------+-----+--------+---------------+\n",
      "|160913997|                  PAY|2016-03-31T23:51:00|         ABA|1600 BLOCK OF GRE...|SAN FRANCISCO|   CA|       1|PREMISE ADDRESS|\n",
      "|160920463|     WELL BEING CHECK|2016-04-01T05:49:00|          ND|  ADA CT/OFARRELL ST|SAN FRANCISCO|   CA|       1|   INTERSECTION|\n",
      "|160920488|            ENCAMPENT|2016-04-01T06:15:00|         ADV|500 BLOCK OF FLOR...|SAN FRANCISCO|   CA|       1|PREMISE ADDRESS|\n",
      "|160920709|   SUSPICIOUS VEHICLE|2016-04-01T08:00:00|         HAN|GRANADA AV/HOLLOW...|SAN FRANCISCO|   CA|       1|   INTERSECTION|\n",
      "|160920723|         TRAFFIC STOP|2016-04-01T08:05:00|         CIT|   7TH ST/MISSION ST|SAN FRANCISCO|   CA|       1|   INTERSECTION|\n",
      "|160920844|         VEH ACCIDENT|2016-04-01T08:41:00|         REP|SANTOS ST/BLYTHDA...|SAN FRANCISCO|   CA|       1|   INTERSECTION|\n",
      "|160921106|        AUDIBLE ALARM|2016-04-01T10:02:00|         NCR|2600 BLOCK OF UNI...|SAN FRANCISCO|   CA|       1|PREMISE ADDRESS|\n",
      "|160921603|               22500F|2016-04-01T12:38:00|         CIT| 0 BLOCK OF MCLEA CT|SAN FRANCISCO|   CA|       1|PREMISE ADDRESS|\n",
      "|160921638|   SUSPICIOUS VEHICLE|2016-04-01T12:41:00|          ND|MISSION ST/SANTA ...|SAN FRANCISCO|   CA|       1|   INTERSECTION|\n",
      "|160922230|         PASSING CALL|2016-04-01T15:27:00|NOT RECORDED|100 BLOCK OF CHRI...|SAN FRANCISCO|   CA|       1|COMMON LOCATION|\n",
      "|160923621|                  811|2016-04-01T21:47:00|         GOA|400 BLOCK OF GEAR...|SAN FRANCISCO|   CA|       1|PREMISE ADDRESS|\n",
      "|160923719|         DRUNK DRIVER|2016-04-01T22:11:00|         HAN|   BUSH ST/KEARNY ST|SAN FRANCISCO|   CA|       1|   INTERSECTION|\n",
      "|160930051|   SUSPICIOUS VEHICLE|2016-04-02T00:20:00|         CIT|200 BLOCK OF EDDY ST|SAN FRANCISCO|   CA|       1|PREMISE ADDRESS|\n",
      "|160930231|   HOMELESS COMPLAINT|2016-04-02T01:32:00|         GOA|1100 BLOCK OF NAT...|SAN FRANCISCO|   CA|       1|PREMISE ADDRESS|\n",
      "|160930960|   HOMELESS COMPLAINT|2016-04-02T09:14:00|         ADV|400 BLOCK OF ELLI...|SAN FRANCISCO|   CA|       1|PREMISE ADDRESS|\n",
      "|160931164|         TRAFFIC STOP|2016-04-02T10:15:00|         CIT|500 BLOCK OF SUTT...|SAN FRANCISCO|   CA|       1|PREMISE ADDRESS|\n",
      "|160931247|    SUSPICIOUS PERSON|2016-04-02T10:43:00|         HAN|HYDE ST/GOLDEN GA...|SAN FRANCISCO|   CA|       1|   INTERSECTION|\n",
      "|160931399|         PASSING CALL|2016-04-02T11:31:00|NOT RECORDED|22ND ST/TENNESSEE ST|SAN FRANCISCO|   CA|       1|   INTERSECTION|\n",
      "|160931506|       STOLEN VEHICLE|2016-04-02T12:02:00|         REP|300 BLOCK OF SAGA...|SAN FRANCISCO|   CA|       1|PREMISE ADDRESS|\n",
      "|160931554|    SUSPICIOUS PERSON|2016-04-02T12:13:00|         ADV|     CAPP ST/19TH ST|SAN FRANCISCO|   CA|       1|   INTERSECTION|\n",
      "+---------+---------------------+-------------------+------------+--------------------+-------------+-----+--------+---------------+\n",
      "only showing top 20 rows\n",
      "\n",
      "<class 'pandas.core.frame.DataFrame'>\n",
      "RangeIndex: 9729 entries, 0 to 9728\n",
      "Data columns (total 9 columns):\n",
      " #   Column                 Non-Null Count  Dtype \n",
      "---  ------                 --------------  ----- \n",
      " 0   CrimeId                9729 non-null   int32 \n",
      " 1   OriginalCrimeTypeName  9729 non-null   object\n",
      " 2   CallDateTime           9729 non-null   object\n",
      " 3   Disposition            9729 non-null   object\n",
      " 4   Address                9729 non-null   object\n",
      " 5   City                   9729 non-null   object\n",
      " 6   State                  9729 non-null   object\n",
      " 7   AgencyId               9729 non-null   object\n",
      " 8   AddressType            9729 non-null   object\n",
      "dtypes: int32(1), object(8)\n",
      "memory usage: 646.2+ KB\n"
     ]
    }
   ],
   "source": [
    "# Eliminar filas NULL\n",
    "\n",
    "df = df.na.drop()\n",
    "\n",
    "# Rellenar valores NULL con comodin -99, solo para variables\n",
    "# categoricas que son las que cuentan con valores NULL\n",
    "\n",
    "df.na.fill(\"-99\").show()\n",
    "\n",
    "df_pd = df.toPandas()\n",
    "df_pd.info()"
   ]
  },
  {
   "cell_type": "code",
   "execution_count": 57,
   "id": "93c36c9e",
   "metadata": {},
   "outputs": [
    {
     "name": "stderr",
     "output_type": "stream",
     "text": [
      "\r",
      "[Stage 54:>                                                         (0 + 1) / 1]\r",
      "\r",
      "                                                                                \r"
     ]
    },
    {
     "data": {
      "image/png": "[encoded data removed]",
      "text/plain": [
       "<Figure size 432x288 with 1 Axes>"
      ]
     },
     "metadata": {
      "needs_background": "light"
     },
     "output_type": "display_data"
    },
    {
     "data": {
      "image/png": "[encoded data removed]",
      "text/plain": [
       "<Figure size 432x288 with 1 Axes>"
      ]
     },
     "metadata": {
      "needs_background": "light"
     },
     "output_type": "display_data"
    },
    {
     "data": {
      "image/png": "[encoded data removed]",
      "text/plain": [
       "<Figure size 432x288 with 1 Axes>"
      ]
     },
     "metadata": {
      "needs_background": "light"
     },
     "output_type": "display_data"
    }
   ],
   "source": [
    "# Validación de datos atipicos - Variables Numericas\n",
    "\n",
    "def draw_hist_num_vars(list_var_num):\n",
    "    \n",
    "    for col_nm in list_var_num:\n",
    "        \n",
    "        list_data_col = df.select(col_nm).rdd.flatMap(lambda x: x).collect()\n",
    "        plt.hist(list_data_col, \n",
    "                 color=\"yellow\",\n",
    "                 ec=\"black\", \n",
    "                 orientation ='horizontal')\n",
    "        \n",
    "        plt.show()\n",
    "\n",
    "list_var_num = ['CrimeId','CallDateTime', 'AgencyId']    \n",
    "draw_hist_num_vars(list_var_num)"
   ]
  },
  {
   "cell_type": "code",
   "execution_count": 65,
   "id": "e2670955",
   "metadata": {},
   "outputs": [],
   "source": [
    "from pyspark.sql.functions import *\n",
    "\n",
    "df = df.withColumn(\"AgencyId\", f.col(\"AgencyId\").cast(IntegerType()))"
   ]
  },
  {
   "cell_type": "code",
   "execution_count": 67,
   "id": "ec6675db",
   "metadata": {},
   "outputs": [
    {
     "data": {
      "image/png": "[encoded data removed]",
      "text/plain": [
       "<Figure size 432x288 with 1 Axes>"
      ]
     },
     "metadata": {
      "needs_background": "light"
     },
     "output_type": "display_data"
    },
    {
     "data": {
      "image/png": "[encoded data removed]",
      "text/plain": [
       "<Figure size 432x288 with 1 Axes>"
      ]
     },
     "metadata": {
      "needs_background": "light"
     },
     "output_type": "display_data"
    }
   ],
   "source": [
    "# Grafico de bigotes, distribución de los datos\n",
    "# para analizar los datos de la variable fecha\n",
    "# se debe convertir en un numero entero\n",
    "\n",
    "def draw_bigotes_num_vars(list_var_num):\n",
    "    \n",
    "    for col_nm in list_var_num:\n",
    "        \n",
    "        list_data_col = df.select(col_nm)\\\n",
    "                          .rdd.flatMap(lambda x: x)\\\n",
    "                          .collect()\n",
    "        red_square = dict(markerfacecolor='r', marker='s')\n",
    "        fig5, ax5 = plt.subplots()\n",
    "        ax5.set_title('Horizontal Boxes')\n",
    "        ax5.boxplot(list_data_col,\n",
    "                    vert=False,\n",
    "                    flierprops=red_square)\n",
    "        \n",
    "        plt.show()\n",
    "\n",
    "list_var_num = ['CrimeId', 'AgencyId']  \n",
    "draw_bigotes_num_vars(list_var_num)"
   ]
  },
  {
   "cell_type": "code",
   "execution_count": 68,
   "id": "09c10417",
   "metadata": {},
   "outputs": [
    {
     "name": "stderr",
     "output_type": "stream",
     "text": [
      "/Users/juandavidescobarescobar/opt/anaconda3/lib/python3.9/site-packages/seaborn/_decorators.py:36: FutureWarning: Pass the following variable as a keyword arg: x. From version 0.12, the only valid positional argument will be `data`, and passing other arguments without an explicit keyword will result in an error or misinterpretation.\n",
      "  warnings.warn(\n"
     ]
    },
    {
     "data": {
      "image/png": "[encoded data removed]",
      "text/plain": [
       "<Figure size 432x288 with 1 Axes>"
      ]
     },
     "metadata": {
      "needs_background": "light"
     },
     "output_type": "display_data"
    },
    {
     "name": "stderr",
     "output_type": "stream",
     "text": [
      "/Users/juandavidescobarescobar/opt/anaconda3/lib/python3.9/site-packages/seaborn/_decorators.py:36: FutureWarning: Pass the following variable as a keyword arg: x. From version 0.12, the only valid positional argument will be `data`, and passing other arguments without an explicit keyword will result in an error or misinterpretation.\n",
      "  warnings.warn(\n"
     ]
    },
    {
     "data": {
      "image/png": "[encoded data removed]",
      "text/plain": [
       "<Figure size 432x288 with 1 Axes>"
      ]
     },
     "metadata": {
      "needs_background": "light"
     },
     "output_type": "display_data"
    },
    {
     "name": "stderr",
     "output_type": "stream",
     "text": [
      "/Users/juandavidescobarescobar/opt/anaconda3/lib/python3.9/site-packages/seaborn/_decorators.py:36: FutureWarning: Pass the following variable as a keyword arg: x. From version 0.12, the only valid positional argument will be `data`, and passing other arguments without an explicit keyword will result in an error or misinterpretation.\n",
      "  warnings.warn(\n"
     ]
    },
    {
     "data": {
      "image/png": "[encoded data removed]",
      "text/plain": [
       "<Figure size 432x288 with 1 Axes>"
      ]
     },
     "metadata": {
      "needs_background": "light"
     },
     "output_type": "display_data"
    },
    {
     "name": "stderr",
     "output_type": "stream",
     "text": [
      "/Users/juandavidescobarescobar/opt/anaconda3/lib/python3.9/site-packages/seaborn/_decorators.py:36: FutureWarning: Pass the following variable as a keyword arg: x. From version 0.12, the only valid positional argument will be `data`, and passing other arguments without an explicit keyword will result in an error or misinterpretation.\n",
      "  warnings.warn(\n"
     ]
    },
    {
     "data": {
      "image/png": "[encoded data removed]",
      "text/plain": [
       "<Figure size 432x288 with 1 Axes>"
      ]
     },
     "metadata": {
      "needs_background": "light"
     },
     "output_type": "display_data"
    },
    {
     "name": "stderr",
     "output_type": "stream",
     "text": [
      "/Users/juandavidescobarescobar/opt/anaconda3/lib/python3.9/site-packages/seaborn/_decorators.py:36: FutureWarning: Pass the following variable as a keyword arg: x. From version 0.12, the only valid positional argument will be `data`, and passing other arguments without an explicit keyword will result in an error or misinterpretation.\n",
      "  warnings.warn(\n"
     ]
    },
    {
     "data": {
      "image/png": "[encoded data removed]",
      "text/plain": [
       "<Figure size 432x288 with 1 Axes>"
      ]
     },
     "metadata": {
      "needs_background": "light"
     },
     "output_type": "display_data"
    },
    {
     "name": "stderr",
     "output_type": "stream",
     "text": [
      "/Users/juandavidescobarescobar/opt/anaconda3/lib/python3.9/site-packages/seaborn/_decorators.py:36: FutureWarning: Pass the following variable as a keyword arg: x. From version 0.12, the only valid positional argument will be `data`, and passing other arguments without an explicit keyword will result in an error or misinterpretation.\n",
      "  warnings.warn(\n"
     ]
    },
    {
     "data": {
      "image/png": "[encoded data removed]",
      "text/plain": [
       "<Figure size 432x288 with 1 Axes>"
      ]
     },
     "metadata": {
      "needs_background": "light"
     },
     "output_type": "display_data"
    }
   ],
   "source": [
    "# Validacion de datos atipicos - Variables Categoricas\n",
    "\n",
    "def draw_hist_cat_vars(list_var_cat):\n",
    "    \n",
    "    for col_nm in list_var_cat:\n",
    "        \n",
    "        list_data_col = df.select(col_nm)\\\n",
    "                          .rdd.flatMap(lambda x: x)\\\n",
    "                          .collect()\n",
    "        sns.countplot(list_data_col, )\n",
    "        plt.show()\n",
    "\n",
    "\n",
    "list_var_cat = ['OriginalCrimeTypeName','Disposition',\\\n",
    "                'Address','City','State','AddressType']\n",
    "draw_hist_cat_vars(list_var_cat)"
   ]
  },
  {
   "cell_type": "code",
   "execution_count": 70,
   "id": "281e83aa",
   "metadata": {},
   "outputs": [
    {
     "data": {
      "text/plain": [
       "0"
      ]
     },
     "execution_count": 70,
     "metadata": {},
     "output_type": "execute_result"
    }
   ],
   "source": [
    "df.filter(f.col(\"State\").isNull()).count()"
   ]
  },
  {
   "cell_type": "markdown",
   "id": "1c12996c",
   "metadata": {},
   "source": [
    "### Tratamiento y validación de Null Values (Variables categóricas)"
   ]
  },
  {
   "cell_type": "code",
   "execution_count": 71,
   "id": "10d7f789",
   "metadata": {},
   "outputs": [
    {
     "name": "stdout",
     "output_type": "stream",
     "text": [
      "+---------------------+-----+\n",
      "|OriginalCrimeTypeName|count|\n",
      "+---------------------+-----+\n",
      "|                FRAUD|   54|\n",
      "|                 BAND|    2|\n",
      "|        WIRELESS-OPEN|    1|\n",
      "|           THREATS DV|    3|\n",
      "|              HOLD UP|    1|\n",
      "|                  800|    6|\n",
      "|              YELLING|    3|\n",
      "|             911-DROP|    1|\n",
      "|            22500F/CW|    1|\n",
      "|    ASSAULT / BATTERY|  113|\n",
      "|                  919|   15|\n",
      "|    PSYCH EVAL / HOLD|    4|\n",
      "|                 MUNI|    1|\n",
      "|            FIREWORKS|    1|\n",
      "|          915 SLEEPER|    1|\n",
      "|            EXPLOSION|    1|\n",
      "|           368CA POSS|    1|\n",
      "|               ATTEMP|    1|\n",
      "|             POSS/420|    1|\n",
      "|                UNOCC|    4|\n",
      "+---------------------+-----+\n",
      "only showing top 20 rows\n",
      "\n",
      "+------------+-----+\n",
      "| Disposition|count|\n",
      "+------------+-----+\n",
      "|         ABA|   97|\n",
      "|         INC|   17|\n",
      "|          22|   77|\n",
      "|         NOM|  324|\n",
      "|         GOA| 1272|\n",
      "|         CIT| 1406|\n",
      "|         HAN| 2589|\n",
      "|         ADM|   46|\n",
      "|          ND|  423|\n",
      "|         SFD|    1|\n",
      "|         PAS|  170|\n",
      "|         CRT|    2|\n",
      "|         UTL|  383|\n",
      "|         NCR|   82|\n",
      "|         CAN|  353|\n",
      "|         ARR|   65|\n",
      "|NOT RECORDED|  496|\n",
      "|         ADV| 1129|\n",
      "|         REP|  797|\n",
      "+------------+-----+\n",
      "\n",
      "+--------------------+-----+\n",
      "|             Address|count|\n",
      "+--------------------+-----+\n",
      "|1100 BLOCK OF FEL...|    1|\n",
      "|   14TH ST/JULIAN AV|    1|\n",
      "|     BAY ST/MASON ST|    1|\n",
      "|100 BLOCK OF ANDE...|    1|\n",
      "|300 BLOCK OF TURK ST|    6|\n",
      "|1200 BLOCK OF HOW...|    7|\n",
      "|400 BLOCK OF MONT...|    2|\n",
      "|  CLEMENT ST/15TH AV|    1|\n",
      "|300 BLOCK OF POTR...|    2|\n",
      "|1600 BLOCK OF 17T...|    2|\n",
      "|   MASON ST/GREEN ST|    1|\n",
      "|POLK ST/NORTH POI...|    1|\n",
      "|600 BLOCK OF HILL ST|    1|\n",
      "|1300 BLOCK OF 38T...|    1|\n",
      "|20TH ST/TENNESSEE ST|    1|\n",
      "|1600 BLOCK OF 25T...|    1|\n",
      "|    31ST AV/JUDAH ST|    1|\n",
      "|600 BLOCK OF EL C...|    1|\n",
      "|1300 BLOCK OF 3RD AV|    1|\n",
      "|BAKER ST/JEFFERSO...|    1|\n",
      "+--------------------+-----+\n",
      "only showing top 20 rows\n",
      "\n",
      "+-------------+-----+\n",
      "|         City|count|\n",
      "+-------------+-----+\n",
      "|  YERBA BUENA|    3|\n",
      "|    DALY CITY|    5|\n",
      "|TREASURE ISLA|   51|\n",
      "|     PRESIDIO|    3|\n",
      "|     BRISBANE|    1|\n",
      "|SAN FRANCISCO| 9666|\n",
      "+-------------+-----+\n",
      "\n",
      "+-----+-----+\n",
      "|State|count|\n",
      "+-----+-----+\n",
      "|   CA| 9729|\n",
      "+-----+-----+\n",
      "\n",
      "+---------------+-----+\n",
      "|    AddressType|count|\n",
      "+---------------+-----+\n",
      "|   INTERSECTION| 3701|\n",
      "|COMMON LOCATION|  817|\n",
      "|PREMISE ADDRESS| 5059|\n",
      "|  INTERSECTIOON|    1|\n",
      "|   GEO-OVERRIDE|  151|\n",
      "+---------------+-----+\n",
      "\n"
     ]
    }
   ],
   "source": [
    "# grafico histograma para variables categoricas, analiza\n",
    "# la distribución de los datos\n",
    "\n",
    "# 1. Conteo de las categorías por variable categorica\n",
    "\n",
    "def count_categ(df, list_var_cat):\n",
    "    for col_nm in list_var_cat:\n",
    "        df.groupby(col_nm).count().show()\n",
    "    \n",
    "\n",
    "list_var_cat = ['OriginalCrimeTypeName','Disposition',\\\n",
    "                'Address','City','State','AddressType']\n",
    "\n",
    "count_categ(df, list_var_cat)"
   ]
  },
  {
   "cell_type": "code",
   "execution_count": 72,
   "id": "f327547b",
   "metadata": {},
   "outputs": [
    {
     "data": {
      "text/html": [
       "<div>\n",
       "<style scoped>\n",
       "    .dataframe tbody tr th:only-of-type {\n",
       "        vertical-align: middle;\n",
       "    }\n",
       "\n",
       "    .dataframe tbody tr th {\n",
       "        vertical-align: top;\n",
       "    }\n",
       "\n",
       "    .dataframe thead th {\n",
       "        text-align: right;\n",
       "    }\n",
       "</style>\n",
       "<table border=\"1\" class=\"dataframe\">\n",
       "  <thead>\n",
       "    <tr style=\"text-align: right;\">\n",
       "      <th></th>\n",
       "      <th>CrimeId</th>\n",
       "      <th>OriginalCrimeTypeName</th>\n",
       "      <th>CallDateTime</th>\n",
       "      <th>Disposition</th>\n",
       "      <th>Address</th>\n",
       "      <th>City</th>\n",
       "      <th>State</th>\n",
       "      <th>AgencyId</th>\n",
       "      <th>AddressType</th>\n",
       "    </tr>\n",
       "  </thead>\n",
       "  <tbody>\n",
       "    <tr>\n",
       "      <th>0</th>\n",
       "      <td>160913997</td>\n",
       "      <td>PAY</td>\n",
       "      <td>2016-03-31T23:51:00</td>\n",
       "      <td>ABA</td>\n",
       "      <td>1600 BLOCK OF GREEN ST</td>\n",
       "      <td>SAN FRANCISCO</td>\n",
       "      <td>CA</td>\n",
       "      <td>1</td>\n",
       "      <td>PREMISE ADDRESS</td>\n",
       "    </tr>\n",
       "    <tr>\n",
       "      <th>1</th>\n",
       "      <td>160920463</td>\n",
       "      <td>WELL BEING CHECK</td>\n",
       "      <td>2016-04-01T05:49:00</td>\n",
       "      <td>ND</td>\n",
       "      <td>ADA CT/OFARRELL ST</td>\n",
       "      <td>SAN FRANCISCO</td>\n",
       "      <td>CA</td>\n",
       "      <td>1</td>\n",
       "      <td>INTERSECTION</td>\n",
       "    </tr>\n",
       "    <tr>\n",
       "      <th>2</th>\n",
       "      <td>160920488</td>\n",
       "      <td>ENCAMPENT</td>\n",
       "      <td>2016-04-01T06:15:00</td>\n",
       "      <td>ADV</td>\n",
       "      <td>500 BLOCK OF FLORIDA ST</td>\n",
       "      <td>SAN FRANCISCO</td>\n",
       "      <td>CA</td>\n",
       "      <td>1</td>\n",
       "      <td>PREMISE ADDRESS</td>\n",
       "    </tr>\n",
       "    <tr>\n",
       "      <th>3</th>\n",
       "      <td>160920709</td>\n",
       "      <td>SUSPICIOUS VEHICLE</td>\n",
       "      <td>2016-04-01T08:00:00</td>\n",
       "      <td>HAN</td>\n",
       "      <td>GRANADA AV/HOLLOWAY AV</td>\n",
       "      <td>SAN FRANCISCO</td>\n",
       "      <td>CA</td>\n",
       "      <td>1</td>\n",
       "      <td>INTERSECTION</td>\n",
       "    </tr>\n",
       "    <tr>\n",
       "      <th>4</th>\n",
       "      <td>160920723</td>\n",
       "      <td>TRAFFIC STOP</td>\n",
       "      <td>2016-04-01T08:05:00</td>\n",
       "      <td>CIT</td>\n",
       "      <td>7TH ST/MISSION ST</td>\n",
       "      <td>SAN FRANCISCO</td>\n",
       "      <td>CA</td>\n",
       "      <td>1</td>\n",
       "      <td>INTERSECTION</td>\n",
       "    </tr>\n",
       "  </tbody>\n",
       "</table>\n",
       "</div>"
      ],
      "text/plain": [
       "     CrimeId OriginalCrimeTypeName         CallDateTime Disposition  \\\n",
       "0  160913997                   PAY  2016-03-31T23:51:00         ABA   \n",
       "1  160920463      WELL BEING CHECK  2016-04-01T05:49:00          ND   \n",
       "2  160920488             ENCAMPENT  2016-04-01T06:15:00         ADV   \n",
       "3  160920709    SUSPICIOUS VEHICLE  2016-04-01T08:00:00         HAN   \n",
       "4  160920723          TRAFFIC STOP  2016-04-01T08:05:00         CIT   \n",
       "\n",
       "                   Address           City State  AgencyId      AddressType  \n",
       "0   1600 BLOCK OF GREEN ST  SAN FRANCISCO    CA         1  PREMISE ADDRESS  \n",
       "1       ADA CT/OFARRELL ST  SAN FRANCISCO    CA         1     INTERSECTION  \n",
       "2  500 BLOCK OF FLORIDA ST  SAN FRANCISCO    CA         1  PREMISE ADDRESS  \n",
       "3   GRANADA AV/HOLLOWAY AV  SAN FRANCISCO    CA         1     INTERSECTION  \n",
       "4        7TH ST/MISSION ST  SAN FRANCISCO    CA         1     INTERSECTION  "
      ]
     },
     "execution_count": 72,
     "metadata": {},
     "output_type": "execute_result"
    }
   ],
   "source": [
    "df_pd2 = df.toPandas()\n",
    "\n",
    "list_var_cat = ['OriginalCrimeTypeName','Disposition',\\\n",
    "                'Address','City','State','AddressType']\n",
    "\n",
    "col_nm = list_var_cat[1]\n",
    "df_pd2.head()"
   ]
  },
  {
   "cell_type": "markdown",
   "id": "2f2ffa44",
   "metadata": {},
   "source": [
    "### Tratamiento y validación de valores atipicos"
   ]
  },
  {
   "cell_type": "code",
   "execution_count": 73,
   "id": "e3367e10",
   "metadata": {},
   "outputs": [],
   "source": [
    "#enables the %%R magic, not necessary if you've already done this\n",
    "#%%R -i df -w 5 -h 5 --units in -r 200\n",
    "%load_ext rpy2.ipython"
   ]
  },
  {
   "cell_type": "code",
   "execution_count": 74,
   "id": "e36daa86",
   "metadata": {},
   "outputs": [
    {
     "data": {
      "image/png": "[encoded data removed]"
     },
     "metadata": {},
     "output_type": "display_data"
    }
   ],
   "source": [
    "%%R -i df_pd2 -w 10 -h 10 --units in -r 200\n",
    "\n",
    "install.packages(\"ggplot2\", repos=\"http://cran.us.r-project.org\", quiet=TRUE)\n",
    "library(ggplot2)\n",
    "\n",
    "ggplot_result <- ggplot(df_pd2)+\n",
    "                 geom_bar(aes(x = AddressType, fill = AddressType)) +\n",
    "                 xlab(\"AddressType\") + ylab(\"Conteo\") +\n",
    "                 #scale_x_discrete(guide = guide_axis(check.overlap = TRUE))\n",
    "                 scale_x_discrete(guide = guide_axis(n.dodge=5)) \n",
    "                 #theme(axis.text.x = element_text(angle = 30))\n",
    "ggplot_result"
   ]
  },
  {
   "cell_type": "code",
   "execution_count": 75,
   "id": "fc9929ea",
   "metadata": {},
   "outputs": [],
   "source": [
    "# Eliminar valor atipico 22 por el valor equivalente al 1% de los registos\n",
    "df = df.filter(f.col(\"Disposition\") != '22')\n",
    "\n",
    "# Eliminar valores no grabados por el valor equivalente a la media\n",
    "# df = df.filter(f.col(\"Disposition\") != 'Not recorded')\n",
    "# df.count()\n",
    "\n",
    "# Remplazar valores no grabados por el valor  Dummy -99\n",
    "\n",
    "df = df.withColumn(\"Disposition\", \n",
    "      f.when(df[\"Disposition\"] == \"Not recorded\", -99)\n",
    "       .otherwise(df[\"Disposition\"]))"
   ]
  },
  {
   "cell_type": "code",
   "execution_count": 76,
   "id": "6dbfb9d8",
   "metadata": {},
   "outputs": [
    {
     "name": "stdout",
     "output_type": "stream",
     "text": [
      "+-----+\n",
      "|count|\n",
      "+-----+\n",
      "|    1|\n",
      "|    2|\n",
      "|    3|\n",
      "|    4|\n",
      "|    5|\n",
      "|    6|\n",
      "|    7|\n",
      "|    8|\n",
      "|    9|\n",
      "|   10|\n",
      "|   11|\n",
      "|   12|\n",
      "|   13|\n",
      "|   14|\n",
      "|   15|\n",
      "|   16|\n",
      "|   17|\n",
      "|   18|\n",
      "|   19|\n",
      "|   21|\n",
      "+-----+\n",
      "only showing top 20 rows\n",
      "\n",
      "None\n"
     ]
    }
   ],
   "source": [
    "# Validación de los datos contenidos en la variable OriginalCrimeTypeName\n",
    "\n",
    "df_original = df.groupby('OriginalCrimeTypeName').count().orderBy(f.col('count').asc())\n",
    "\n",
    "\n",
    "#dfa = df_original.filter(f.col('count') == '1')\n",
    "#dfa.show()\n",
    "\n",
    "list_ditinct_origin = df_original.select('count')\\\n",
    "                                 .distinct()\\\n",
    "                                 .orderBy(f.col('count').asc()).show()\n",
    "                               \n",
    "#Min: 1\n",
    "#Max: 1194\n",
    "\n",
    "print(list_ditinct_origin)"
   ]
  },
  {
   "cell_type": "code",
   "execution_count": 77,
   "id": "86d3e7fe",
   "metadata": {},
   "outputs": [
    {
     "data": {
      "text/plain": [
       "9233"
      ]
     },
     "execution_count": 77,
     "metadata": {},
     "output_type": "execute_result"
    }
   ],
   "source": [
    "# Eliminación registros que continenen valores númericos en\n",
    "# la variable OriginalCrimeTypeName\n",
    "\n",
    "df.count()\n",
    "#9156\n",
    "\n",
    "df = df.filter(~f.col(\"OriginalCrimeTypeName\").cast(\"int\").isNotNull())\n",
    "df.count()\n",
    "#9631"
   ]
  },
  {
   "cell_type": "code",
   "execution_count": 78,
   "id": "ea48d7a2",
   "metadata": {},
   "outputs": [],
   "source": [
    "# Remplazar valor atipico o incongruente de la variable City = 'S'\n",
    " \n",
    "df = df.withColumn(\"City\", \n",
    "      f.when(df[\"City\"] == \"S\", \"SAN FRANCISCO\")\n",
    "       .otherwise(df[\"Disposition\"]))"
   ]
  },
  {
   "cell_type": "code",
   "execution_count": 79,
   "id": "d5685bc1",
   "metadata": {},
   "outputs": [],
   "source": [
    "# Remplazar valor atipico o incongruente de la variable AddressType = '1'\n",
    " \n",
    "df = df.withColumn(\"AddressType\", \n",
    "      f.when(df[\"AddressType\"] == \"1\", \"-99\")\n",
    "       .otherwise(df[\"AddressType\"]))"
   ]
  },
  {
   "cell_type": "code",
   "execution_count": 80,
   "id": "82e7ced4",
   "metadata": {},
   "outputs": [],
   "source": [
    "# Remplazar valor atipico o incongruente de la variable State = 'NA'\n",
    " \n",
    "df = df.withColumn(\"State\", \n",
    "      f.when(df[\"AgencyId\"] == \"CA\", \"CA\")\n",
    "       .otherwise(df[\"AgencyId\"])) "
   ]
  },
  {
   "cell_type": "code",
   "execution_count": 81,
   "id": "6df8a53b",
   "metadata": {},
   "outputs": [],
   "source": [
    "# Remplazar valor atipico o incongruente de la variable AgencyId = 'CA'\n",
    " \n",
    "df = df.withColumn(\"AgencyId\", \n",
    "      f.when(df[\"AgencyId\"] == \"CA\", 1)\n",
    "       .otherwise(df[\"AgencyId\"]))"
   ]
  },
  {
   "cell_type": "code",
   "execution_count": 82,
   "id": "2244e672",
   "metadata": {},
   "outputs": [
    {
     "data": {
      "text/plain": [
       "DataFrame[summary: string, CrimeId: string, OriginalCrimeTypeName: string, CallDateTime: string, Disposition: string, Address: string, City: string, State: string, AgencyId: string, AddressType: string]"
      ]
     },
     "execution_count": 82,
     "metadata": {},
     "output_type": "execute_result"
    }
   ],
   "source": [
    "df.describe()"
   ]
  },
  {
   "cell_type": "markdown",
   "id": "5982cf31",
   "metadata": {},
   "source": [
    "## Fase 3. Datos resultados (Result Zone)"
   ]
  },
  {
   "cell_type": "code",
   "execution_count": 83,
   "id": "3ce643e6",
   "metadata": {},
   "outputs": [
    {
     "data": {
      "text/plain": [
       "DataFrame[summary: string, CrimeId: string, OriginalCrimeTypeName: string, Disposition: string, Address: string, City: string, State: string, AgencyId: string, AddressType: string]"
      ]
     },
     "execution_count": 83,
     "metadata": {},
     "output_type": "execute_result"
    }
   ],
   "source": [
    "# Ajustar esquema de acuerdo a la naturaleza de los datos analizados en el Datset\n",
    "\n",
    "df2 = df.withColumn(\"CallDateTime\", f.col(\"CallDateTime\").cast(TimestampType()))\\\n",
    "        .withColumn(\"AgencyId\", f.col(\"AgencyId\").cast(IntegerType()))\n",
    "\n",
    "df2.describe()\n",
    "#df2.show()"
   ]
  },
  {
   "cell_type": "code",
   "execution_count": 84,
   "id": "872916e9",
   "metadata": {},
   "outputs": [
    {
     "name": "stdout",
     "output_type": "stream",
     "text": [
      "root\n",
      " |-- CrimeId: integer (nullable = false)\n",
      " |-- OriginalCrimeTypeName: string (nullable = true)\n",
      " |-- CallDateTime: timestamp (nullable = true)\n",
      " |-- Disposition: string (nullable = true)\n",
      " |-- Address: string (nullable = true)\n",
      " |-- City: string (nullable = true)\n",
      " |-- State: string (nullable = true)\n",
      " |-- AgencyId: integer (nullable = true)\n",
      " |-- AddressType: string (nullable = true)\n",
      "\n",
      "+---------+---------------------+-------------------+------------+--------------------+------------+-----+--------+---------------+\n",
      "|  CrimeId|OriginalCrimeTypeName|       CallDateTime| Disposition|             Address|        City|State|AgencyId|    AddressType|\n",
      "+---------+---------------------+-------------------+------------+--------------------+------------+-----+--------+---------------+\n",
      "|160913997|                  PAY|2016-03-31 23:51:00|         ABA|1600 BLOCK OF GRE...|         ABA|    1|       1|PREMISE ADDRESS|\n",
      "|160920463|     WELL BEING CHECK|2016-04-01 05:49:00|          ND|  ADA CT/OFARRELL ST|          ND|    1|       1|   INTERSECTION|\n",
      "|160920488|            ENCAMPENT|2016-04-01 06:15:00|         ADV|500 BLOCK OF FLOR...|         ADV|    1|       1|PREMISE ADDRESS|\n",
      "|160920709|   SUSPICIOUS VEHICLE|2016-04-01 08:00:00|         HAN|GRANADA AV/HOLLOW...|         HAN|    1|       1|   INTERSECTION|\n",
      "|160920723|         TRAFFIC STOP|2016-04-01 08:05:00|         CIT|   7TH ST/MISSION ST|         CIT|    1|       1|   INTERSECTION|\n",
      "|160920844|         VEH ACCIDENT|2016-04-01 08:41:00|         REP|SANTOS ST/BLYTHDA...|         REP|    1|       1|   INTERSECTION|\n",
      "|160921106|        AUDIBLE ALARM|2016-04-01 10:02:00|         NCR|2600 BLOCK OF UNI...|         NCR|    1|       1|PREMISE ADDRESS|\n",
      "|160921603|               22500F|2016-04-01 12:38:00|         CIT| 0 BLOCK OF MCLEA CT|         CIT|    1|       1|PREMISE ADDRESS|\n",
      "|160921638|   SUSPICIOUS VEHICLE|2016-04-01 12:41:00|          ND|MISSION ST/SANTA ...|          ND|    1|       1|   INTERSECTION|\n",
      "|160922230|         PASSING CALL|2016-04-01 15:27:00|NOT RECORDED|100 BLOCK OF CHRI...|NOT RECORDED|    1|       1|COMMON LOCATION|\n",
      "|160923719|         DRUNK DRIVER|2016-04-01 22:11:00|         HAN|   BUSH ST/KEARNY ST|         HAN|    1|       1|   INTERSECTION|\n",
      "|160930051|   SUSPICIOUS VEHICLE|2016-04-02 00:20:00|         CIT|200 BLOCK OF EDDY ST|         CIT|    1|       1|PREMISE ADDRESS|\n",
      "|160930231|   HOMELESS COMPLAINT|2016-04-02 01:32:00|         GOA|1100 BLOCK OF NAT...|         GOA|    1|       1|PREMISE ADDRESS|\n",
      "|160930960|   HOMELESS COMPLAINT|2016-04-02 09:14:00|         ADV|400 BLOCK OF ELLI...|         ADV|    1|       1|PREMISE ADDRESS|\n",
      "|160931164|         TRAFFIC STOP|2016-04-02 10:15:00|         CIT|500 BLOCK OF SUTT...|         CIT|    1|       1|PREMISE ADDRESS|\n",
      "|160931247|    SUSPICIOUS PERSON|2016-04-02 10:43:00|         HAN|HYDE ST/GOLDEN GA...|         HAN|    1|       1|   INTERSECTION|\n",
      "|160931399|         PASSING CALL|2016-04-02 11:31:00|NOT RECORDED|22ND ST/TENNESSEE ST|NOT RECORDED|    1|       1|   INTERSECTION|\n",
      "|160931506|       STOLEN VEHICLE|2016-04-02 12:02:00|         REP|300 BLOCK OF SAGA...|         REP|    1|       1|PREMISE ADDRESS|\n",
      "|160931554|    SUSPICIOUS PERSON|2016-04-02 12:13:00|         ADV|     CAPP ST/19TH ST|         ADV|    1|       1|   INTERSECTION|\n",
      "|160932688|               7.2.27|2016-04-02 17:26:00|         GOA|5800 BLOCK OF GEA...|         GOA|    1|       1|PREMISE ADDRESS|\n",
      "+---------+---------------------+-------------------+------------+--------------------+------------+-----+--------+---------------+\n",
      "only showing top 20 rows\n",
      "\n"
     ]
    }
   ],
   "source": [
    "# Ajustar esquema de acuerdo a la naturaleza de los datos analizados en el Datset\n",
    "\n",
    "# StructField(\"Range\", StringType(), True),  \\ # col eliminada\n",
    "# StructField(\"OffenseDate\", StringType(), True),  \\ # col eliminada\n",
    "# StructField(\"CallTime\", StringType(), True),  \\ # col eliminada\n",
    "\n",
    "schema = StructType([ \\\n",
    "    StructField(\"CrimeId\",IntegerType(),False), \\\n",
    "    StructField(\"OriginalCrimeTypeName\",StringType(),True), \\\n",
    "    StructField(\"CallDateTime\", TimestampType(), True), \\\n",
    "    StructField(\"Disposition\", StringType(), True), \\\n",
    "    StructField(\"Address\", StringType(), True), \\\n",
    "    StructField(\"City\", StringType(), True), \\\n",
    "    StructField(\"State\", StringType(), True), \\\n",
    "    StructField(\"AgencyId\", IntegerType(), True), \\\n",
    "    StructField(\"AddressType\", StringType(), True)  \\\n",
    "  ])\n",
    "\n",
    "df_result = spark.createDataFrame(data = df2.collect(), schema = schema)\n",
    "df_result.printSchema()\n",
    "df_result.show()"
   ]
  },
  {
   "cell_type": "markdown",
   "id": "0b23e5c1",
   "metadata": {},
   "source": [
    "### Analisis de correlación entre las variables númericas"
   ]
  },
  {
   "cell_type": "code",
   "execution_count": null,
   "id": "5cffe39e",
   "metadata": {},
   "outputs": [],
   "source": [
    "import numpy as np; np.random.seed(1)\n",
    "import pandas as pd\n",
    "import seaborn as sns\n",
    "import matplotlib.pyplot as plt\n",
    "\n",
    "# Generate a random dataset\n",
    "df_correl = df_result.select('CrimeId', 'AgencyId').toPandas()\n",
    "\n",
    "# Compute the correlation matrix\n",
    "corr = df_correl.corr()\n",
    "print(corr)\n",
    "# Generate a mask for the upper triangle\n",
    "mask = np.zeros_like(corr, dtype=np.bool)\n",
    "mask[np.triu_indices_from(mask)] = True\n",
    "\n",
    "# Set up the matplotlib figure\n",
    "fig, ax = plt.subplots()\n",
    "\n",
    "# Draw the heatmap with the mask and correct aspect ratio\n",
    "vmax = np.abs(corr.values[~mask]).max()\n",
    "sns.heatmap(corr, mask=mask, cmap=plt.cm.PuOr, vmin=-vmax, vmax=vmax,\n",
    "            square=True, linecolor=\"lightgray\", linewidths=1, ax=ax)\n",
    "for i in range(len(corr)):\n",
    "    ax.text(i+0.5,len(corr)-(i+0.5), corr.columns[i], \n",
    "            ha=\"center\", va=\"center\", rotation=45)\n",
    "    for j in range(i+1, len(corr)):\n",
    "        s = \"{:.3f}\".format(corr.values[i,j])\n",
    "        ax.text(j+0.5,len(corr)-(i+0.5),s, \n",
    "            ha=\"center\", va=\"center\")\n",
    "ax.axis(\"off\")\n",
    "plt.show()"
   ]
  },
  {
   "cell_type": "code",
   "execution_count": 85,
   "id": "f99b18de",
   "metadata": {},
   "outputs": [
    {
     "name": "stdout",
     "output_type": "stream",
     "text": [
      "{'colorbar.N': 100, 'colorbar.shrink': 0.8, 'colorbar.orientation': 'vertical'}\n"
     ]
    },
    {
     "name": "stderr",
     "output_type": "stream",
     "text": [
      "/Users/juandavidescobarescobar/opt/anaconda3/lib/python3.9/site-packages/pyensae/graphhelper/linkage.py:43: ClusterWarning: scipy.cluster: The symmetric non-negative hollow observation matrix looks suspiciously like an uncondensed distance matrix\n",
      "  Y = linkage(D, method=method, metric=metric)\n"
     ]
    },
    {
     "data": {
      "image/png": "[encoded data removed]",
      "text/plain": [
       "<Figure size 864x432 with 2 Axes>"
      ]
     },
     "metadata": {},
     "output_type": "display_data"
    }
   ],
   "source": [
    "import pandas\n",
    "import numpy\n",
    "from pyensae.graphhelper import Corrplot\n",
    "\n",
    "df_correl = df_result.select('CrimeId', 'AgencyId').toPandas()\n",
    "\n",
    "c = Corrplot(df_correl)\n",
    "\n",
    "print(c.params)\n",
    "c.plot(figsize=(12,6))\n",
    "plt.show()"
   ]
  },
  {
   "cell_type": "code",
   "execution_count": 86,
   "id": "4a1d4a06",
   "metadata": {},
   "outputs": [
    {
     "data": {
      "text/plain": [
       "Row(CrimeId=160913997, OriginalCrimeTypeName='PAY', CallDateTime=datetime.datetime(2016, 3, 31, 23, 51), Disposition='ABA', Address='1600 BLOCK OF GREEN ST', City='ABA', State='1', AgencyId=1, AddressType='PREMISE ADDRESS')"
      ]
     },
     "execution_count": 86,
     "metadata": {},
     "output_type": "execute_result"
    }
   ],
   "source": [
    "df_result.head()"
   ]
  },
  {
   "cell_type": "markdown",
   "id": "167967cd",
   "metadata": {},
   "source": [
    "### Converción de Dataframe a formato JSON"
   ]
  },
  {
   "cell_type": "code",
   "execution_count": 87,
   "id": "437c9020",
   "metadata": {},
   "outputs": [
    {
     "name": "stdout",
     "output_type": "stream",
     "text": [
      "{\"CrimeId\":160913997,\"OriginalCrimeTypeName\":\"PAY\",\"CallDateTime\":\"2016-03-31T23:51:00.000-05:00\",\"Disposition\":\"ABA\",\"Address\":\"1600 BLOCK OF GREEN ST\",\"City\":\"ABA\",\"State\":\"1\",\"AgencyId\":1,\"AddressType\":\"PREMISE ADDRESS\"} \n",
      "\n",
      "{\"CrimeId\":160920463,\"OriginalCrimeTypeName\":\"WELL BEING CHECK\",\"CallDateTime\":\"2016-04-01T05:49:00.000-05:00\",\"Disposition\":\"ND\",\"Address\":\"ADA CT/OFARRELL ST\",\"City\":\"ND\",\"State\":\"1\",\"AgencyId\":1,\"AddressType\":\"INTERSECTION\"} \n",
      "\n"
     ]
    },
    {
     "name": "stderr",
     "output_type": "stream",
     "text": [
      "CrimeId:160913997\n",
      "OriginalCrimeTypeName:PAY\n",
      "CallDateTime:2016-03-31T23:51:00.000-05:00\n",
      "Disposition:ABA\n",
      "Address:1600 BLOCK OF GREEN ST\n",
      "City:ABA\n",
      "State:1\n",
      "AgencyId:1\n",
      "AddressType:PREMISE ADDRESS\n",
      "\n",
      "\n",
      "CrimeId:160920463\n",
      "OriginalCrimeTypeName:WELL BEING CHECK\n",
      "CallDateTime:2016-04-01T05:49:00.000-05:00\n",
      "Disposition:ND\n",
      "Address:ADA CT/OFARRELL ST\n",
      "City:ND\n",
      "State:1\n",
      "AgencyId:1\n",
      "AddressType:INTERSECTION\n",
      "\n",
      "\n"
     ]
    }
   ],
   "source": [
    "# Crear JSON-Result\n",
    "import json\n",
    "\n",
    "df_json = df_result.limit(2).toJSON()\n",
    "\n",
    "for row in df_json.collect():\n",
    "    #json string\n",
    "    print(row, '\\n') \n",
    "    \n",
    "    \n",
    "def print_rows(row):\n",
    "    data = json.loads(row)\n",
    "     \n",
    "    for key in data:\n",
    "        print(\"{key}:{value}\".format(key=key, value=data[key])) \n",
    "\n",
    "    print('\\n')  \n",
    "\n",
    "df_json.foreach(print_rows)  "
   ]
  },
  {
   "cell_type": "code",
   "execution_count": 24,
   "id": "e1ab172c",
   "metadata": {},
   "outputs": [
    {
     "name": "stdout",
     "output_type": "stream",
     "text": [
      "[{'_id': 1, 'CrimeId': 160913997, 'OriginalCrimeTypeName': 'Pay', 'CallDateTime': '2016-03-31T23:51:00.000-05:00', 'Disposition': 'ABA', 'Address': '1600 Block Of Green St', 'City': 'ABA', 'State': '1', 'Agency': {'_id': 1}, 'AddressType': 'Premise Address'}, {'_id': 2, 'CrimeId': 160920463, 'OriginalCrimeTypeName': 'Well Being Check', 'CallDateTime': '2016-04-01T05:49:00.000-05:00', 'Disposition': 'ND', 'Address': 'Ada Ct/ofarrell St', 'City': 'ND', 'State': '1', 'Agency': {'_id': 1}, 'AddressType': 'Intersection'}]\n"
     ]
    }
   ],
   "source": [
    "list_result = [  \n",
    "{\n",
    "    \"_id\": 1,\n",
    "    \"CrimeId\": 160913997,\n",
    "    \"OriginalCrimeTypeName\": \"Pay\",\n",
    "    \"CallDateTime\": \"2016-03-31T23:51:00.000-05:00\",\n",
    "    \"Disposition\": \"ABA\",\n",
    "    \"Address\": \"1600 Block Of Green St\",\n",
    "    \"City\": \"ABA\",\n",
    "    \"State\": \"1\",\n",
    "    \"Agency\": {\n",
    "        \"_id\": 1\n",
    "    },\n",
    "    \"AddressType\": \"Premise Address\"\n",
    "},\n",
    "{\n",
    "    \"_id\": 2,\n",
    "    \"CrimeId\": 160920463,\n",
    "    \"OriginalCrimeTypeName\": \"Well Being Check\",\n",
    "    \"CallDateTime\": \"2016-04-01T05:49:00.000-05:00\",\n",
    "    \"Disposition\": \"ND\",\n",
    "    \"Address\": \"Ada Ct/ofarrell St\",\n",
    "    \"City\": \"ND\",\n",
    "    \"State\": \"1\",\n",
    "    \"Agency\": {\n",
    "        \"_id\": 1\n",
    "    },\n",
    "    \"AddressType\": \"Intersection\"\n",
    "}\n",
    "]\n",
    "\n",
    "print(list_result)"
   ]
  },
  {
   "cell_type": "markdown",
   "id": "70ca9b79",
   "metadata": {},
   "source": [
    "### Almacenar nuevo Dataset en fuente de datos destino (MongoDB)"
   ]
  },
  {
   "cell_type": "code",
   "execution_count": 1,
   "id": "0f320662",
   "metadata": {},
   "outputs": [
    {
     "name": "stderr",
     "output_type": "stream",
     "text": [
      "WARNING: pip is being invoked by an old script wrapper. This will fail in a future version of pip.\n",
      "Please see https://github.com/pypa/pip/issues/5599 for advice on fixing the underlying issue.\n",
      "To avoid this problem you can invoke Python with '-m pip' instead of running pip directly.\n"
     ]
    },
    {
     "name": "stdout",
     "output_type": "stream",
     "text": [
      "Collecting pymongo\n",
      "  Downloading pymongo-4.0.1-cp39-cp39-macosx_10_9_universal2.whl (351 kB)\n",
      "Installing collected packages: pymongo\n",
      "Successfully installed pymongo-4.0.1\n"
     ]
    },
    {
     "data": {
      "text/plain": [
       "0"
      ]
     },
     "execution_count": 1,
     "metadata": {},
     "output_type": "execute_result"
    }
   ],
   "source": [
    "import pip\n",
    "pip.main(['install', 'pymongo'])"
   ]
  },
  {
   "cell_type": "code",
   "execution_count": 22,
   "id": "fb31bade",
   "metadata": {},
   "outputs": [
    {
     "name": "stdout",
     "output_type": "stream",
     "text": [
      "Database(MongoClient(host=['localhost:27017'], document_class=dict, tz_aware=False, connect=True), 'crimesdb')\n",
      "Collection(Database(MongoClient(host=['localhost:27017'], document_class=dict, tz_aware=False, connect=True), 'crimesdb'), 'crimenes')\n",
      "[]\n"
     ]
    }
   ],
   "source": [
    "import pymongo\n",
    "from pymongo import MongoClient\n",
    "\n",
    "#client = MongoClient('localhost', 27017)\n",
    "client = pymongo.MongoClient(\"mongodb://localhost:27017/\")\n",
    "db = client['crimesdb']\n",
    "\n",
    "print(db)\n",
    "\n",
    "my_collect = db[\"crimenes\"]\n",
    "\n",
    "print(my_collect)\n",
    "\n",
    "collist = db.list_collection_names()\n",
    "\n",
    "print(db.list_collection_names())\n",
    "\n",
    "if \"crimenes\" in collist:\n",
    "\n",
    "    print(\"The collection exists.\")\n",
    "\n",
    "    results = collection.insert_many(dic_result)\n",
    "    print (\"Insert a many documents: inserted ids: \" + str(results.inserted_ids) + \", acknowledged: \" + str(results.acknowledged))\n",
    "\n",
    "    x = my_collect.insert_many(dic_result)\n",
    "    print(x.inserted_ids)"
   ]
  },
  {
   "cell_type": "code",
   "execution_count": 30,
   "id": "9f2202a9",
   "metadata": {},
   "outputs": [
    {
     "name": "stdout",
     "output_type": "stream",
     "text": [
      "<pymongo.cursor.Cursor object at 0x7f9318176fd0>\n",
      "{'_id': 1, 'CrimeId': 160913997, 'OriginalCrimeTypeName': 'Pay', 'CallDateTime': '2016-03-31T23:51:00.000-05:00', 'Disposition': 'ABA', 'Address': '1600 Block Of Green St', 'City': 'ABA', 'State': '1', 'Agency': {'_id': 1}, 'AddressType': 'Premise Address'}\n",
      "{'_id': 2, 'CrimeId': 160920463, 'OriginalCrimeTypeName': 'Well Being Check', 'CallDateTime': '2016-04-01T05:49:00.000-05:00', 'Disposition': 'ND', 'Address': 'Ada Ct/ofarrell St', 'City': 'ND', 'State': '1', 'Agency': {'_id': 1}, 'AddressType': 'Intersection'}\n"
     ]
    }
   ],
   "source": [
    "# Select all values from CrimesDB\n",
    "import json\n",
    "myclient = pymongo.MongoClient(\"mongodb://localhost:27017/\")\n",
    "mydb = myclient[\"crimesdb\"]\n",
    "mycol = mydb[\"crimenes\"]\n",
    "\n",
    "print(mycol.find())\n",
    "\n",
    "for x in mycol.find():\n",
    "    print(x)       "
   ]
  },
  {
   "cell_type": "code",
   "execution_count": 31,
   "id": "0eb5c5b1",
   "metadata": {},
   "outputs": [
    {
     "name": "stderr",
     "output_type": "stream",
     "text": [
      "WARNING: pip is being invoked by an old script wrapper. This will fail in a future version of pip.\n",
      "Please see https://github.com/pypa/pip/issues/5599 for advice on fixing the underlying issue.\n",
      "To avoid this problem you can invoke Python with '-m pip' instead of running pip directly.\n"
     ]
    },
    {
     "name": "stdout",
     "output_type": "stream",
     "text": [
      "Requirement already satisfied: nbconvert in /Users/juandavidescobarescobar/opt/anaconda3/lib/python3.9/site-packages (6.1.0)\n",
      "Requirement already satisfied: jinja2>=2.4 in /Users/juandavidescobarescobar/opt/anaconda3/lib/python3.9/site-packages (from nbconvert) (2.11.3)\n",
      "Requirement already satisfied: entrypoints>=0.2.2 in /Users/juandavidescobarescobar/opt/anaconda3/lib/python3.9/site-packages (from nbconvert) (0.3)\n",
      "Requirement already satisfied: jupyterlab-pygments in /Users/juandavidescobarescobar/opt/anaconda3/lib/python3.9/site-packages (from nbconvert) (0.1.2)\n",
      "Requirement already satisfied: pygments>=2.4.1 in /Users/juandavidescobarescobar/opt/anaconda3/lib/python3.9/site-packages (from nbconvert) (2.10.0)\n",
      "Requirement already satisfied: nbformat>=4.4 in /Users/juandavidescobarescobar/opt/anaconda3/lib/python3.9/site-packages (from nbconvert) (5.1.3)\n",
      "Requirement already satisfied: bleach in /Users/juandavidescobarescobar/opt/anaconda3/lib/python3.9/site-packages (from nbconvert) (4.0.0)\n",
      "Requirement already satisfied: defusedxml in /Users/juandavidescobarescobar/opt/anaconda3/lib/python3.9/site-packages (from nbconvert) (0.7.1)\n",
      "Requirement already satisfied: traitlets>=5.0 in /Users/juandavidescobarescobar/opt/anaconda3/lib/python3.9/site-packages (from nbconvert) (5.1.0)\n",
      "Requirement already satisfied: testpath in /Users/juandavidescobarescobar/opt/anaconda3/lib/python3.9/site-packages (from nbconvert) (0.5.0)\n",
      "Requirement already satisfied: pandocfilters>=1.4.1 in /Users/juandavidescobarescobar/opt/anaconda3/lib/python3.9/site-packages (from nbconvert) (1.4.3)\n",
      "Requirement already satisfied: jupyter-core in /Users/juandavidescobarescobar/opt/anaconda3/lib/python3.9/site-packages (from nbconvert) (4.8.1)\n",
      "Requirement already satisfied: nbclient<0.6.0,>=0.5.0 in /Users/juandavidescobarescobar/opt/anaconda3/lib/python3.9/site-packages (from nbconvert) (0.5.3)\n",
      "Requirement already satisfied: mistune<2,>=0.8.1 in /Users/juandavidescobarescobar/opt/anaconda3/lib/python3.9/site-packages (from nbconvert) (0.8.4)\n",
      "Requirement already satisfied: MarkupSafe>=0.23 in /Users/juandavidescobarescobar/opt/anaconda3/lib/python3.9/site-packages (from jinja2>=2.4->nbconvert) (1.1.1)\n",
      "Requirement already satisfied: nest-asyncio in /Users/juandavidescobarescobar/opt/anaconda3/lib/python3.9/site-packages (from nbclient<0.6.0,>=0.5.0->nbconvert) (1.5.1)\n",
      "Requirement already satisfied: jupyter-client>=6.1.5 in /Users/juandavidescobarescobar/opt/anaconda3/lib/python3.9/site-packages (from nbclient<0.6.0,>=0.5.0->nbconvert) (6.1.12)\n",
      "Requirement already satisfied: async-generator in /Users/juandavidescobarescobar/opt/anaconda3/lib/python3.9/site-packages (from nbclient<0.6.0,>=0.5.0->nbconvert) (1.10)\n",
      "Requirement already satisfied: python-dateutil>=2.1 in /Users/juandavidescobarescobar/opt/anaconda3/lib/python3.9/site-packages (from jupyter-client>=6.1.5->nbclient<0.6.0,>=0.5.0->nbconvert) (2.8.2)\n",
      "Requirement already satisfied: pyzmq>=13 in /Users/juandavidescobarescobar/opt/anaconda3/lib/python3.9/site-packages (from jupyter-client>=6.1.5->nbclient<0.6.0,>=0.5.0->nbconvert) (22.2.1)\n",
      "Requirement already satisfied: tornado>=4.1 in /Users/juandavidescobarescobar/opt/anaconda3/lib/python3.9/site-packages (from jupyter-client>=6.1.5->nbclient<0.6.0,>=0.5.0->nbconvert) (6.1)\n",
      "Requirement already satisfied: ipython-genutils in /Users/juandavidescobarescobar/opt/anaconda3/lib/python3.9/site-packages (from nbformat>=4.4->nbconvert) (0.2.0)\n",
      "Requirement already satisfied: jsonschema!=2.5.0,>=2.4 in /Users/juandavidescobarescobar/opt/anaconda3/lib/python3.9/site-packages (from nbformat>=4.4->nbconvert) (3.2.0)\n",
      "Requirement already satisfied: six>=1.11.0 in /Users/juandavidescobarescobar/opt/anaconda3/lib/python3.9/site-packages (from jsonschema!=2.5.0,>=2.4->nbformat>=4.4->nbconvert) (1.16.0)\n",
      "Requirement already satisfied: attrs>=17.4.0 in /Users/juandavidescobarescobar/opt/anaconda3/lib/python3.9/site-packages (from jsonschema!=2.5.0,>=2.4->nbformat>=4.4->nbconvert) (21.2.0)\n",
      "Requirement already satisfied: setuptools in /Users/juandavidescobarescobar/opt/anaconda3/lib/python3.9/site-packages (from jsonschema!=2.5.0,>=2.4->nbformat>=4.4->nbconvert) (58.0.4)\n",
      "Requirement already satisfied: pyrsistent>=0.14.0 in /Users/juandavidescobarescobar/opt/anaconda3/lib/python3.9/site-packages (from jsonschema!=2.5.0,>=2.4->nbformat>=4.4->nbconvert) (0.18.0)\n",
      "Requirement already satisfied: packaging in /Users/juandavidescobarescobar/opt/anaconda3/lib/python3.9/site-packages (from bleach->nbconvert) (21.0)\n",
      "Requirement already satisfied: webencodings in /Users/juandavidescobarescobar/opt/anaconda3/lib/python3.9/site-packages (from bleach->nbconvert) (0.5.1)\n",
      "Requirement already satisfied: pyparsing>=2.0.2 in /Users/juandavidescobarescobar/opt/anaconda3/lib/python3.9/site-packages (from packaging->bleach->nbconvert) (3.0.4)\n"
     ]
    },
    {
     "data": {
      "text/plain": [
       "0"
      ]
     },
     "execution_count": 31,
     "metadata": {},
     "output_type": "execute_result"
    }
   ],
   "source": [
    "import pip\n",
    "pip.main(['install', 'nbconvert'])"
   ]
  },
  {
   "cell_type": "code",
   "execution_count": 34,
   "id": "64914163",
   "metadata": {},
   "outputs": [
    {
     "name": "stderr",
     "output_type": "stream",
     "text": [
      "[NbConvertApp] Converting notebook Limpieza Datos Dataset - CSV.ipynb to webpdf\n",
      "[NbConvertApp] Building PDF\n",
      "[NbConvertApp] PDF successfully created\n",
      "[NbConvertApp] Writing 623951 bytes to Limpieza Datos Dataset - CSV.pdf\n"
     ]
    }
   ],
   "source": [
    "%%bash\n",
    "jupyter nbconvert --to webpdf --allow-chromium-download \"Limpieza Datos Dataset - CSV.ipynb\""
   ]
  },
  {
   "cell_type": "code",
   "execution_count": null,
   "id": "548dbcef",
   "metadata": {},
   "outputs": [],
   "source": [
    "sc.stop()"
   ]
  },
  {
   "cell_type": "markdown",
   "id": "51242bab",
   "metadata": {},
   "source": [
    "# 4. Limpieza Específica"
   ]
  },
  {
   "cell_type": "code",
   "execution_count": null,
   "id": "36d72904",
   "metadata": {},
   "outputs": [],
   "source": [
    "# '''\n",
    "# # 3. Filas leidas\n",
    "\n",
    "# df.count()\n",
    "# # 10051"
   ]
  },
  {
   "cell_type": "code",
   "execution_count": null,
   "id": "0d41faa2",
   "metadata": {},
   "outputs": [],
   "source": [
    "# '''\n",
    "# # 4. Columnas leidas\n",
    "\n",
    "# len(df.columns)\n",
    "# # 12"
   ]
  },
  {
   "cell_type": "code",
   "execution_count": null,
   "id": "21ff9abb",
   "metadata": {},
   "outputs": [],
   "source": [
    "# '''\n",
    "# # 5. Limpieza general - Datos perdidos N/A or None (Elimina las filas duplicadas - por todos los campos)\n",
    "\n",
    "# #df.dropna()\n",
    "# display(HTML(\"<style>pre { white-space: pre !important; }</style>\"))\n",
    "# df.dropna(how='all').show()\n",
    "# df.count()"
   ]
  },
  {
   "cell_type": "code",
   "execution_count": null,
   "id": "5bddeea2",
   "metadata": {},
   "outputs": [],
   "source": [
    "# '''\n",
    "# # 6. Limpieza general - Borrar columnas con None / NAN \n",
    "\n",
    "# df = df.toPandas().dropna(axis=1, how='all')\n",
    "# len(df.columns)"
   ]
  },
  {
   "cell_type": "code",
   "execution_count": null,
   "id": "f6512f69",
   "metadata": {},
   "outputs": [],
   "source": [
    "# '''\n",
    "# # 7. Limpieza general - Elimina las filas duplicadas - por todos los campos\n",
    "\n",
    "# df = df.drop_duplicates()\n",
    "# df.count()"
   ]
  },
  {
   "cell_type": "code",
   "execution_count": null,
   "id": "418b1018",
   "metadata": {},
   "outputs": [],
   "source": [
    "# '''\n",
    "# # 8. Limpieza general - Elimina las filas duplicadas - por \"CrimeId\"\n",
    "\n",
    "# df_pk = 'CrimeId'\n",
    "# result_duplicates = get_duplicates(df, df_pk)\n",
    "\n",
    "# if result_duplicates['is_error']:\n",
    "#     df.drop_duplicates(subset = [df_pk])\n",
    "#     print('Identificadores duplicados: {0}'.format(result_duplicates['is_error']))"
   ]
  },
  {
   "cell_type": "code",
   "execution_count": null,
   "id": "d72039f2",
   "metadata": {},
   "outputs": [],
   "source": [
    "# '''\n",
    "# # 1. Ajustar esquema de acuerdo a la naturaleza de los datos analizados en el Datset\n",
    "# #StructField(\"Range\", StringType(), True),  \\ # col eliminada\n",
    "\n",
    "\n",
    "# schema = StructType([ \\\n",
    "#     StructField(\"CrimeId\",IntegerType(),False), \\\n",
    "#     StructField(\"OriginalCrimeTypeName\",StringType(),True), \\\n",
    "#     StructField(\"OffenseDate\",TimestampType(),True), \\\n",
    "#     StructField(\"CallTime\", StringType(), True), \\\n",
    "#     StructField(\"CallDateTime\", TimestampType(), True), \\\n",
    "#     StructField(\"Disposition\", StringType(), True), \\\n",
    "#     StructField(\"Address\", StringType(), True), \\\n",
    "#     StructField(\"City\", StringType(), True), \\\n",
    "#     StructField(\"State\", StringType(), True), \\\n",
    "#     StructField(\"AgencyId\", IntegerType(), True), \\\n",
    "#     StructField(\"AddressType\", StringType(), True)  \\\n",
    "#   ])\n",
    "\n",
    "# data = df.values.tolist()\n",
    "# df = spark.createDataFrame(data = data)\n",
    "\n",
    "\n",
    "# df_new = spark.createDataFrame(data = df.rdd, schema = schema)\n",
    "# df_new.printSchema()\n",
    "# df_new.show()"
   ]
  },
  {
   "cell_type": "code",
   "execution_count": null,
   "id": "493d4664",
   "metadata": {},
   "outputs": [],
   "source": [
    "# '''\n",
    "# display(df_new)"
   ]
  },
  {
   "cell_type": "code",
   "execution_count": null,
   "id": "1d4d69a8",
   "metadata": {},
   "outputs": [],
   "source": [
    "# '''\n",
    "# # 1. Validar el porcentaje de correlación de los datos\n",
    "\n",
    "# # df2.stat.corr('CrimeId', 'CallTime')"
   ]
  },
  {
   "cell_type": "code",
   "execution_count": null,
   "id": "3438d96f",
   "metadata": {},
   "outputs": [],
   "source": [
    "# '''\n",
    "# # 2. Validar la variable media y desviacion estandar para los tipos de datos númericos"
   ]
  },
  {
   "cell_type": "code",
   "execution_count": null,
   "id": "05f085a6",
   "metadata": {},
   "outputs": [],
   "source": [
    "# '''\n",
    "# df_pd = df_pd.fillna(df_pd.mean())\n",
    "\n",
    "# df_pd.info()\n",
    "\n",
    "# df_pd['Range']"
   ]
  },
  {
   "cell_type": "code",
   "execution_count": null,
   "id": "40aa14dd",
   "metadata": {},
   "outputs": [],
   "source": [
    "# '''\n",
    "# #display(HTML(\"<style>pre { white-space: pre !important; }</style>\"))\n",
    "# #df.show()\n",
    "# df.limit(20).toPandas().head()\n",
    "# df.printSchema()\n",
    "\n",
    "# #len(df.columns)\n",
    "# df.limit(20).toPandas().head()\n",
    "# '''"
   ]
  },
  {
   "cell_type": "code",
   "execution_count": null,
   "id": "fccb0e21",
   "metadata": {},
   "outputs": [],
   "source": [
    "# '''\n",
    "# |-- CrimeId: integer (nullable = true)\n",
    "# |-- OriginalCrimeTypeName: string (nullable = true)\n",
    "# |-- OffenseDate: timestamp (nullable = true)  YYYY-MM-DD T HH:MM:SS\n",
    "# |-- CallTime: string (nullable = true) HH:MM\n",
    "# |-- CallDateTime: timestamp (nullable = true) YYYY-MM-DD T HH:MM:SS\n",
    "# |-- Disposition: string (nullable = true) 3 charascter MAX EX: REP\n",
    "# |-- Address: string (nullable = true) \n",
    "# |-- City: string (nullable = true)\n",
    "# |-- State: string (nullable = true) CA 2 CHARACTERS\n",
    "# |-- AgencyId: string (nullable = true) INT (OJO ERROR)\n",
    "# |-- Range: string (nullable = true) INT?? OJO SIN DATOS\n",
    "# |-- AddressType: string (nullable = true) String\n",
    "# '''"
   ]
  },
  {
   "cell_type": "code",
   "execution_count": null,
   "id": "ea354796",
   "metadata": {},
   "outputs": [],
   "source": [
    "# '''\n",
    "# df2.describe('CrimeId', 'OriginalCrimeTypeName').show()\n",
    "# df2.describe('OffenseDate', 'CallTime').show()\n",
    "# '''"
   ]
  },
  {
   "cell_type": "code",
   "execution_count": null,
   "id": "e97ded53",
   "metadata": {},
   "outputs": [],
   "source": [
    "# '''\n",
    "# # Almacenar la informacion del DF en una tabla temporal para poder manipularlo mediante consultas\n",
    "\n",
    "# temp_table_csv_name = 'crimes'\n",
    "\n",
    "# df.createOrReplaceTempView(temp_table_csv_name)\n",
    "# df2 = spark.sql('SELECT * FROM ' + temp_table_csv_name)\n",
    "# df2.limit(20).toPandas().head()\n",
    "# df2.cache()\n",
    "# '''"
   ]
  },
  {
   "cell_type": "code",
   "execution_count": null,
   "id": "9ec26969",
   "metadata": {},
   "outputs": [],
   "source": [
    "# '''\n",
    "# Describe de los valores enteros, para validar los numeros:\n",
    "# MAX, MIN, COUNT, MEAN (PROMEDIO) Y LA \n",
    "# DESVIACION ESTANDAR\n",
    "\n",
    "# X   |X - (~X)         | (X - (~X))^2\n",
    "\n",
    "# 5   |5 - 15,6 = -10,6 | (-10,6)^2 = 112,36\n",
    "# 15  |-0,6             | 0,36\n",
    "# 12  |-3,6             | 12,96\n",
    "# 18  |2,4              | 5,76\n",
    "# 28  |12,4             | 153,76\n",
    "#                         (285,2)        \n",
    "\n",
    "# ~X = 5 +15 + 12 +18 + 28 / 5 = 15,6\n",
    "\n",
    "# s = raiz(sum( (X - (~X))^2 ) / N-1)\n",
    "# s = raiz(285,1 / (5-1)) = 8,44\n",
    "\n",
    "\n",
    "# La desviacion estandar me indica la variacion que existe en los datos de la muestra,\n",
    "# es decir que tan diferentes o parecidos son.\n",
    "\n",
    "\n",
    "\n",
    "# import matplotlib.pyplot as plt\n",
    "# import numpy as np\n",
    "\n",
    "# x = np.array([5, 15, 12, 18, 28])\n",
    "# y = np.power(x, 2) # Effectively y = x**2\n",
    "\n",
    "# plt.errorbar(x, y, linestyle='None', marker='x')\n",
    "\n",
    "# plt.show()\n",
    "\n",
    "# '''"
   ]
  },
  {
   "cell_type": "code",
   "execution_count": null,
   "id": "2d7f1c88",
   "metadata": {},
   "outputs": [],
   "source": [
    "# '''\n",
    "# --------------------------------------------------------------------------------------------\n",
    "# 0. Contar filas\n",
    "# 0. Contar columnas\n",
    "# --------------------------------------------------------------------------------------------\n",
    "# Limpieza de datos:\n",
    "\n",
    "# 1. Datos perdidos N/A or None       \n",
    "\n",
    "# Encontrar Nulos\n",
    "# df.isnull()\n",
    "\n",
    "# Filtrar datos perdidos\n",
    "# from numpy import nan as NA\n",
    "# df.dropna()\n",
    "\n",
    "# Borrar filas que todos los registros sean None / NA\n",
    "# df.dropna(how='all')\n",
    "\n",
    "# Borrar columnas con None / NA\n",
    "# df.dropna(axis=1, how='all')\n",
    "\n",
    "# Borrar ciertos NA, es decir solo lo que le indiquemos\n",
    "# df.dropna(thresh=2)\n",
    "\n",
    "# Rellenar datos con un valor predeterminado\n",
    "# df.fillna(0)\n",
    "\n",
    "# Rellenar datos con un valor de un key de un dic\n",
    "# para la col 1 y 2\n",
    "# df.fillna({1:0.5, 2:5})\n",
    "\n",
    "# df.fillna(method='ffill') #fordward fill, rellena con el ultimo valor que no era NA\n",
    "# df.fillna(method='ffill', limit=1) #lo mismo pero solo para un NAN\n",
    "\n",
    "# df.fillna(data.mean()) #rellena con un promedio de los valores de la fila y no con 0\n",
    "\n",
    "# --------------------------------------------------------------------------------------------\n",
    "# 2. Datos duplicados\n",
    "\n",
    "# Nos dice las filas que estan duplicadas\n",
    "\n",
    "# df.duplicated()\n",
    "\n",
    "# Elimina las filas duplicadas\n",
    "\n",
    "# df.drop_duplicates()\n",
    "\n",
    "\n",
    "# 3. Manipulación de strings\n",
    "# 4. Transformación de datos\n",
    "\n",
    "# '''"
   ]
  },
  {
   "cell_type": "code",
   "execution_count": null,
   "id": "9ca1cbce",
   "metadata": {},
   "outputs": [],
   "source": [
    "# '''\n",
    "# df_disposition_count = df.groupby('Disposition').count()\n",
    "# df_disposition_media = df_disposition_count.withColumn('count_media', f.expr(\"approx_percentile(count, 0.5, 10) over ()\"))\n",
    "\n",
    "# df_grp_mean = df_disposition_count.groupBy('Disposition')\\\n",
    "#                                   .agg(f.mean(df_disposition_count['count'])\\\n",
    "#                                   .alias('mean_val'))\n",
    "# df_grp_mean.show()\n",
    "# '''"
   ]
  },
  {
   "cell_type": "code",
   "execution_count": null,
   "id": "24cfcef8",
   "metadata": {},
   "outputs": [],
   "source": [
    "# '''\n",
    "# # Remplazar valores no grabados por el valor equivalente a la media\n",
    "# df = df.withColumn(\"Disposition\", \n",
    "#       f.when(df[update_col] == \"Not recorded\", \"\")\n",
    "#        .otherwise(df[\"Disposition\"]))\n",
    "# '''       "
   ]
  },
  {
   "cell_type": "code",
   "execution_count": 10,
   "id": "51bfa701",
   "metadata": {},
   "outputs": [
    {
     "name": "stdout",
     "output_type": "stream",
     "text": [
      "Database(MongoClient(host=['localhost:27017'], document_class=dict, tz_aware=False, connect=True), 'mydb')\n"
     ]
    }
   ],
   "source": [
    "# from pymongo import MongoClient\n",
    "\n",
    "# if __name__ == '__main__':\n",
    "#     client = MongoClient(\"mongodb://localhost:27017/\")\n",
    "\n",
    "#     with client.start_session(causal_consistency = True) as my_session:\n",
    "#         with my_session.start_transaction():\n",
    "\n",
    "#             db = client.mydb\n",
    "#             collection = db.mycollection\n",
    "            \n",
    "#             print(db)\n",
    "\n",
    "#             # GET THE COUNT OF DOCUMENTS\n",
    "#             count = collection.count_documents({\"firstname\": \"John\"})\n",
    "#             print (\"count of documents: \" + str(count))\n",
    "\n",
    "#             # ITERATE A QUERY\n",
    "#             for result in collection.find({\"firstname\": \"John\"}):\n",
    "#                 print (\"Iterate a query: \" + str(result))\n",
    "\n",
    "#             # INSERT A SINGLE DOCUMENT\n",
    "#             results = collection.insert_one({\"firstname\": \"John\"}, session = my_session)\n",
    "#             print (\"Insert a single document: inserted id: \" + str(results.inserted_id) + \", acknowledged: \" + str(results.acknowledged))\n",
    "\n",
    "#             # INSERT MANY DOCUMENTS (INCLUDE A FIELD CALLED 'number' WITH A RANGE FROM 0 TO 4)\n",
    "#             results = collection.insert_many([{\"firstname\": \"John\", \"number\": i} for i in range(5)], session = my_session)\n",
    "#             print (\"Insert a many documents: inserted ids: \" + str(results.inserted_ids) + \", acknowledged: \" + str(results.acknowledged))\n",
    "\n",
    "#             # UPDATE ONE (TACK ON ANOTHER FIELD CALLED 'lastname')\n",
    "#             results = collection.update_one({\"number\": 1}, {\"$set\": {\"lastname\": \"Doe\"}}, session = my_session)\n",
    "#             print (\"Update one: acknowledged: \" + str(results.acknowledged) + \", matched_count: \" + str(results.matched_count) + \", modified_count: \" + str(results.modified_count) + \", upserted_id: \" + str(results.upserted_id) + \", raw_result: \" + str(results.raw_result))\n",
    "\n",
    "#             # UPSERT ONE (THIS WILL CREATE A DOCUMENT WITH FIELD CALLED 'number' WITH A VALUE OF 23 ALONG WITH FIRST AND LAST NAME FIELDS.\n",
    "#             results = collection.update_one({\"number\": 23}, {\"$set\": {\"firstname\": \"John\", \"lastname\": \"Doe\"}}, True, session = my_session)\n",
    "#             print (\"Upsert one: acknowledged: \" + str(results.acknowledged) + \", matched_count: \" + str(results.matched_count) + \", modified_count: \" + str(results.modified_count) + \", upserted_id: \" + str(results.upserted_id) + \", raw_result: \" + str(results.raw_result))\n",
    "\n",
    "#             # UPDATE MANY\n",
    "#             results = collection.update_many({\"firstname\": \"John\"}, {\"$set\": {\"city\": \"Newark\"}}, session = my_session)\n",
    "#             print (\"Update many: acknowledged: \" + str(results.acknowledged) + \", matched_count: \" + str(results.matched_count) + \", modified_count: \" + str(results.modified_count) + \", upserted_id: \" + str(results.upserted_id) + \", raw_result: \" + str(results.raw_result))\n",
    "\n",
    "#             # UPSERT MANY (THIS WILL ONLY INSERT ONE RECORD IF FILTER NOT FOUND, BUT COULD UPDATE MANY)\n",
    "#             results = collection.update_many({\"firstname\": \"John\", \"middlename\": \"Jacob\"}, {\"$set\": {\"city\": \"Newark\", \"state\": \"Ohio\", \"number\": i} for i in range(5)}, upsert = True, session = my_session)\n",
    "#             print (\"Upsert many: acknowledged: \" + str(results.acknowledged) + \", matched_count: \" + str(results.matched_count) + \", modified_count: \" + str(results.modified_count) + \", upserted_id: \" + str(results.upserted_id) + \", raw_result: \" + str(results.raw_result))\n",
    "\n",
    "#             # DELETE MANY\n",
    "#             results = collection.delete_many({\"firstname\": \"John\"}, session = my_session)"
   ]
  }
 ],
 "metadata": {
  "kernelspec": {
   "display_name": "Python 3 (ipykernel)",
   "language": "python",
   "name": "python3"
  },
  "language_info": {
   "codemirror_mode": {
    "name": "ipython",
    "version": 3
   },
   "file_extension": ".py",
   "mimetype": "text/x-python",
   "name": "python",
   "nbconvert_exporter": "python",
   "pygments_lexer": "ipython3",
   "version": "3.9.7"
  }
 },
 "nbformat": 4,
 "nbformat_minor": 5
}
